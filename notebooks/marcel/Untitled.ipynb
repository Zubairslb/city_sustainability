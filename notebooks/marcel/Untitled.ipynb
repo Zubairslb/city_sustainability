{
 "cells": [
  {
   "cell_type": "code",
   "execution_count": 1,
   "id": "59d2d4d3",
   "metadata": {
    "ExecuteTime": {
     "end_time": "2023-05-30T10:12:27.636973Z",
     "start_time": "2023-05-30T10:12:26.335343Z"
    }
   },
   "outputs": [
    {
     "name": "stderr",
     "output_type": "stream",
     "text": [
      "2023-05-30 14:12:26.527956: I tensorflow/tsl/cuda/cudart_stub.cc:28] Could not find cuda drivers on your machine, GPU will not be used.\n",
      "2023-05-30 14:12:26.552431: I tensorflow/tsl/cuda/cudart_stub.cc:28] Could not find cuda drivers on your machine, GPU will not be used.\n",
      "2023-05-30 14:12:26.553069: I tensorflow/core/platform/cpu_feature_guard.cc:182] This TensorFlow binary is optimized to use available CPU instructions in performance-critical operations.\n",
      "To enable the following instructions: AVX2 FMA, in other operations, rebuild TensorFlow with the appropriate compiler flags.\n",
      "2023-05-30 14:12:26.988645: W tensorflow/compiler/tf2tensorrt/utils/py_utils.cc:38] TF-TRT Warning: Could not find TensorRT\n"
     ]
    }
   ],
   "source": [
    "from city_sustainability.loading_data import split_data"
   ]
  },
  {
   "cell_type": "code",
   "execution_count": 2,
   "id": "dfbcd231",
   "metadata": {
    "ExecuteTime": {
     "end_time": "2023-05-30T10:12:56.425134Z",
     "start_time": "2023-05-30T10:12:56.329561Z"
    }
   },
   "outputs": [],
   "source": [
    "# Paths for input data and directory containing the train.txt, test.txt, and val.txt files\n",
    "data_path = '../../raw_data/OpenEarthMap_wo_xBD'\n",
    "split_files_path = '../../raw_data/OpenEarthMap_wo_xBD/'\n",
    "\n",
    "(X_train_paths, \n",
    " y_train_paths, \n",
    " X_val_paths, \n",
    " y_val_paths, \n",
    " X_test_paths, \n",
    " y_test_paths) = split_data (data_path, split_files_path)"
   ]
  },
  {
   "cell_type": "code",
   "execution_count": 4,
   "id": "42701368",
   "metadata": {
    "ExecuteTime": {
     "end_time": "2023-05-30T10:13:21.457046Z",
     "start_time": "2023-05-30T10:13:21.450579Z"
    }
   },
   "outputs": [
    {
     "name": "stdout",
     "output_type": "stream",
     "text": [
      "X_train_paths = 2303\n",
      "y_train_paths = 2303\n",
      "X_test_paths = 0\n",
      "y_test_paths = 0\n",
      "X_val_paths = 384\n",
      "y_val_paths = 384\n"
     ]
    }
   ],
   "source": [
    "print('X_train_paths =', len(X_train_paths))\n",
    "print('y_train_paths =', len(y_train_paths))\n",
    "print('X_test_paths =', len(X_test_paths))\n",
    "print('y_test_paths =', len(y_test_paths))\n",
    "print('X_val_paths =', len(X_val_paths))\n",
    "print('y_val_paths =', len(y_val_paths))"
   ]
  },
  {
   "cell_type": "code",
   "execution_count": null,
   "id": "91001194",
   "metadata": {},
   "outputs": [],
   "source": []
  }
 ],
 "metadata": {
  "kernelspec": {
   "display_name": "Python 3 (ipykernel)",
   "language": "python",
   "name": "python3"
  },
  "language_info": {
   "codemirror_mode": {
    "name": "ipython",
    "version": 3
   },
   "file_extension": ".py",
   "mimetype": "text/x-python",
   "name": "python",
   "nbconvert_exporter": "python",
   "pygments_lexer": "ipython3",
   "version": "3.8.12"
  },
  "toc": {
   "base_numbering": 1,
   "nav_menu": {},
   "number_sections": true,
   "sideBar": true,
   "skip_h1_title": false,
   "title_cell": "Table of Contents",
   "title_sidebar": "Contents",
   "toc_cell": false,
   "toc_position": {},
   "toc_section_display": true,
   "toc_window_display": false
  }
 },
 "nbformat": 4,
 "nbformat_minor": 5
}
