{
 "cells": [
  {
   "cell_type": "markdown",
   "id": "de33ee3e",
   "metadata": {},
   "source": [
    "# City Sustainability - CNET Model Workflow"
   ]
  },
  {
   "cell_type": "markdown",
   "id": "ec242ae0",
   "metadata": {
    "heading_collapsed": true
   },
   "source": [
    "## Imports"
   ]
  },
  {
   "cell_type": "code",
   "execution_count": null,
   "id": "378b32ab",
   "metadata": {
    "ExecuteTime": {
     "end_time": "2023-05-28T12:16:44.225254Z",
     "start_time": "2023-05-28T12:16:42.617123Z"
    },
    "hidden": true
   },
   "outputs": [],
   "source": [
    "# Imports\n",
    "\n",
    "import tensorflow as tf\n",
    "from tensorflow import keras\n",
    "import matplotlib.pyplot as plt\n",
    "from tensorflow.keras import layers\n",
    "from city_sustainability.models import unet_model\n",
    "from city_sustainability.quality import life_quality\n",
    "from tensorflow.keras.callbacks import EarlyStopping\n",
    "from city_sustainability.loading_data import split_data\n",
    "from city_sustainability.preprocessing import image_resize\n",
    "from city_sustainability.loading_data import loading_paths\n",
    "from city_sustainability.loading_data import image_and_label_arrays"
   ]
  },
  {
   "cell_type": "markdown",
   "id": "d3ae555d",
   "metadata": {
    "heading_collapsed": true
   },
   "source": [
    "## Load and process images"
   ]
  },
  {
   "cell_type": "code",
   "execution_count": null,
   "id": "a72e74ec",
   "metadata": {
    "ExecuteTime": {
     "end_time": "2023-05-28T12:22:39.485408Z",
     "start_time": "2023-05-28T12:22:39.299041Z"
    },
    "hidden": true
   },
   "outputs": [],
   "source": [
    "# Paths for input data and directory containing the train.txt, test.txt, and val.txt files\n",
    "\n",
    "data_path = '../../raw_data/OpenEarthMap_wo_xBD'\n",
    "split_files_path = '../../raw_data/OpenEarthMap_wo_xBD/'\n",
    "(X_train_paths,\n",
    " y_train_paths,\n",
    " X_val_paths,\n",
    " y_val_paths,\n",
    " X_test_paths,\n",
    " y_test_paths) = split_data (data_path, split_files_path)\n",
    "\n",
    "print('X_train_paths =', len(X_train_paths))\n",
    "print('y_train_paths =', len(y_train_paths))\n",
    "print('X_test_paths =', len(X_test_paths))\n",
    "print('y_test_paths =', len(y_test_paths))\n",
    "print('X_val_paths =', len(X_val_paths))\n",
    "print('y_val_paths =', len(y_val_paths))"
   ]
  },
  {
   "cell_type": "code",
   "execution_count": null,
   "id": "605a7217",
   "metadata": {
    "hidden": true
   },
   "outputs": [],
   "source": [
    "# Load images\n",
    "\n",
    "X_train, y_train = image_and_label_arrays(X_train_paths, y_train_paths, sampling_ratio=1.0)\n",
    "# X_test, y_test = image_and_label_arrays(X_train_paths, y_train_paths, sampling_ratio=1.0)\n",
    "X_val, y_val = image_and_label_arrays(X_val_paths, y_val_paths, sampling_ratio=1.0)"
   ]
  },
  {
   "cell_type": "code",
   "execution_count": null,
   "id": "efe778f7",
   "metadata": {
    "hidden": true
   },
   "outputs": [],
   "source": [
    "# Scale X and y\n",
    "\n",
    "X_train_scaled = X_train / 255\n",
    "# X_test_scaled = X_test / 255\n",
    "X_val_scaled = X_val / 255\n",
    "\n",
    "print(X_train_scaled.shape)\n",
    "# print(X_test_scaled.shape)\n",
    "print(X_val_scaled.shape)"
   ]
  },
  {
   "cell_type": "markdown",
   "id": "af0cf75d",
   "metadata": {
    "heading_collapsed": true
   },
   "source": [
    "## CNET Model - VGG16"
   ]
  },
  {
   "cell_type": "code",
   "execution_count": null,
   "id": "176f8238",
   "metadata": {
    "hidden": true
   },
   "outputs": [],
   "source": [
    "#Load a Trained Model\n",
    "\n",
    "# path = '../../model_training/mallik/model_3001.h5'\n",
    "# model = load_model(path, custom_objects={'compute_iou': compute_iou})"
   ]
  },
  {
   "cell_type": "code",
   "execution_count": null,
   "id": "185014d8",
   "metadata": {
    "ExecuteTime": {
     "end_time": "2023-05-26T09:54:12.653488Z",
     "start_time": "2023-05-26T09:54:12.077362Z"
    },
    "hidden": true
   },
   "outputs": [],
   "source": [
    "# Create the model\n",
    "\n",
    "model = build_vgg16_model(input_shape=(256, 256, 3), num_classes = 9)\n",
    "# When running from .py\n",
    "# model_full = unet_model.build_vgg16_model_full(input_shape=(400, 400, 3), num_classes = 9)"
   ]
  },
  {
   "cell_type": "code",
   "execution_count": null,
   "id": "4a25621d",
   "metadata": {
    "ExecuteTime": {
     "end_time": "2023-05-26T09:37:48.053131Z",
     "start_time": "2023-05-26T09:37:48.035254Z"
    },
    "hidden": true
   },
   "outputs": [],
   "source": [
    "# Compile the model\n",
    "\n",
    "unet_model.compile_model(model)"
   ]
  },
  {
   "cell_type": "code",
   "execution_count": null,
   "id": "ea08a113",
   "metadata": {
    "ExecuteTime": {
     "end_time": "2023-05-26T09:44:36.270347Z",
     "start_time": "2023-05-26T09:44:36.177700Z"
    },
    "hidden": true,
    "scrolled": true
   },
   "outputs": [],
   "source": [
    "# Model Architecture\n",
    "\n",
    "model.summary()"
   ]
  },
  {
   "cell_type": "code",
   "execution_count": null,
   "id": "5249b7a2",
   "metadata": {
    "ExecuteTime": {
     "end_time": "2023-05-26T09:38:13.761484Z",
     "start_time": "2023-05-26T09:37:51.908014Z"
    },
    "hidden": true,
    "scrolled": true
   },
   "outputs": [],
   "source": [
    "# Model Training and Validation\n",
    "\n",
    "unet_model.train_model(model, X_train_scaled, y_train, epochs = 50, batch_size=64, validation_data = (X_val_scaled, y_val))"
   ]
  },
  {
   "cell_type": "code",
   "execution_count": null,
   "id": "130a16ce",
   "metadata": {
    "hidden": true
   },
   "outputs": [],
   "source": [
    "#Save the Trained Model\n",
    "model.save('../../model_training/marcel')"
   ]
  },
  {
   "cell_type": "code",
   "execution_count": null,
   "id": "98b68bad",
   "metadata": {
    "ExecuteTime": {
     "end_time": "2023-05-30T13:18:30.878413Z",
     "start_time": "2023-05-30T13:18:30.875521Z"
    },
    "hidden": true
   },
   "outputs": [],
   "source": [
    "# Model Test (prediction)\n",
    "\n",
    "y_pred = model.predict(X_val_scaled)"
   ]
  },
  {
   "cell_type": "code",
   "execution_count": null,
   "id": "ebc52824",
   "metadata": {
    "hidden": true
   },
   "outputs": [],
   "source": [
    "# Verify prediction shape\n",
    "\n",
    "y_pred.shape"
   ]
  },
  {
   "cell_type": "markdown",
   "id": "95a11f5a",
   "metadata": {
    "heading_collapsed": true
   },
   "source": [
    "## Original images vs predicted"
   ]
  },
  {
   "cell_type": "markdown",
   "id": "0ba3e9d8",
   "metadata": {
    "hidden": true
   },
   "source": [
    "Dont forget to do CTRL+A and CTRL+P to print the images in .pdf"
   ]
  },
  {
   "cell_type": "code",
   "execution_count": null,
   "id": "bccf0fa6",
   "metadata": {
    "hidden": true
   },
   "outputs": [],
   "source": [
    "# Create a Table DataFrame from the color dictionary\n",
    "\n",
    "class_colors = {\n",
    "    \"Other\": '#FFFF00',\n",
    "    \"Bareland\": '#800000',\n",
    "    \"Rangeland\": '#00FF24',\n",
    "    \"Developed space\": '#949494',\n",
    "    \"Road\": '#FFFFFF',\n",
    "    \"Tree\": '#226126',\n",
    "    \"Water\": '#0045FF',\n",
    "    \"Agriculture land\": '#4BB549',\n",
    "    \"Building\": '#DE1F07'}\n",
    "\n",
    "df = pd.DataFrame(list(class_colors.items()), columns=['Class', 'Color'])\n",
    "\n",
    "def color_cells(val):\n",
    "    color = val \n",
    "    return 'background-color: %s' % color\n",
    "\n",
    "class_color = df.style.applymap(color_cells, subset=['Color'])\n",
    "class_color"
   ]
  },
  {
   "cell_type": "code",
   "execution_count": null,
   "id": "f5c3ee1d",
   "metadata": {
    "hidden": true
   },
   "outputs": [],
   "source": [
    "#Plot images to compare: Satellite Original, Label Original and Label Prediction.\n",
    "\n",
    "# Create Numpy\n",
    "y_pred_np = np.argmax(y_pred, axis=-1)\n",
    "y_val_np = np.argmax(y_val, axis=-1)\n",
    "\n",
    "# Variables\n",
    "labels = list(range(len(class_colors))) \n",
    "colors = list(class_colors.values())     \n",
    "cmap = ListedColormap(colors)\n",
    "norm = BoundaryNorm(labels, cmap.N)\n",
    "\n",
    "# Create the figure and subplots\n",
    "num_images = 10 \n",
    "fig, axs = plt.subplots(num_images, 3, figsize=(12, 4 * num_images))\n",
    "\n",
    "# Iterate through the image sets\n",
    "for i in range(num_images):\n",
    "    index = i * 10  \n",
    "    if index >= len(X_train):\n",
    "        break\n",
    "    # Display the original image\n",
    "    axs[i, 0].imshow(X_val[index])\n",
    "    axs[i, 0].set_title('Original Image')\n",
    "    axs[i, 0].axis('off')\n",
    "    # Display the original label\n",
    "    axs[i, 1].imshow(y_val_np[index], cmap=cmap, vmin=0, vmax=8)\n",
    "    axs[i, 1].set_title('Original Label')\n",
    "    axs[i, 1].axis('off')\n",
    "    # Display the predicted label\n",
    "    axs[i, 2].imshow(y_pred_np[index], cmap=cmap, vmin=0, vmax=8)\n",
    "    axs[i, 2].set_title('Predicted Label')\n",
    "    axs[i, 2].axis('off')\n",
    "\n",
    "# Display the figure and adjust the spacing between subplots\n",
    "plt.subplots_adjust(wspace=0.2, hspace=0.2)\n",
    "plt.show()"
   ]
  }
 ],
 "metadata": {
  "kernelspec": {
   "display_name": "Python 3 (ipykernel)",
   "language": "python",
   "name": "python3"
  },
  "language_info": {
   "codemirror_mode": {
    "name": "ipython",
    "version": 3
   },
   "file_extension": ".py",
   "mimetype": "text/x-python",
   "name": "python",
   "nbconvert_exporter": "python",
   "pygments_lexer": "ipython3",
   "version": "3.8.12"
  },
  "toc": {
   "base_numbering": 1,
   "nav_menu": {},
   "number_sections": true,
   "sideBar": true,
   "skip_h1_title": false,
   "title_cell": "Table of Contents",
   "title_sidebar": "Contents",
   "toc_cell": false,
   "toc_position": {},
   "toc_section_display": true,
   "toc_window_display": false
  }
 },
 "nbformat": 4,
 "nbformat_minor": 5
}
