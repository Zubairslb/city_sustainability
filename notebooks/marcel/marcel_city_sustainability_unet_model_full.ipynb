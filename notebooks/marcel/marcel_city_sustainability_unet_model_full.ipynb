{
 "cells": [
  {
   "cell_type": "code",
   "execution_count": 1,
   "id": "487df99b",
   "metadata": {
    "ExecuteTime": {
     "end_time": "2023-05-28T06:12:51.653358Z",
     "start_time": "2023-05-28T06:12:50.298683Z"
    },
    "scrolled": true
   },
   "outputs": [
    {
     "name": "stderr",
     "output_type": "stream",
     "text": [
      "2023-05-28 10:12:50.398625: I tensorflow/tsl/cuda/cudart_stub.cc:28] Could not find cuda drivers on your machine, GPU will not be used.\n",
      "2023-05-28 10:12:50.420997: I tensorflow/tsl/cuda/cudart_stub.cc:28] Could not find cuda drivers on your machine, GPU will not be used.\n",
      "2023-05-28 10:12:50.421726: I tensorflow/core/platform/cpu_feature_guard.cc:182] This TensorFlow binary is optimized to use available CPU instructions in performance-critical operations.\n",
      "To enable the following instructions: AVX2 FMA, in other operations, rebuild TensorFlow with the appropriate compiler flags.\n",
      "2023-05-28 10:12:50.976619: W tensorflow/compiler/tf2tensorrt/utils/py_utils.cc:38] TF-TRT Warning: Could not find TensorRT\n"
     ]
    }
   ],
   "source": [
    "from tensorflow.keras.utils import plot_model"
   ]
  },
  {
   "cell_type": "code",
   "execution_count": 2,
   "id": "e64c5ca7",
   "metadata": {
    "ExecuteTime": {
     "end_time": "2023-05-28T06:12:52.573643Z",
     "start_time": "2023-05-28T06:12:52.311500Z"
    }
   },
   "outputs": [
    {
     "ename": "NameError",
     "evalue": "name 'model_full' is not defined",
     "output_type": "error",
     "traceback": [
      "\u001b[0;31m---------------------------------------------------------------------------\u001b[0m",
      "\u001b[0;31mNameError\u001b[0m                                 Traceback (most recent call last)",
      "Cell \u001b[0;32mIn[2], line 1\u001b[0m\n\u001b[0;32m----> 1\u001b[0m plot_model(\u001b[43mmodel_full\u001b[49m)\n",
      "\u001b[0;31mNameError\u001b[0m: name 'model_full' is not defined"
     ]
    }
   ],
   "source": [
    "plot_model(model_full)"
   ]
  },
  {
   "cell_type": "code",
   "execution_count": 3,
   "id": "378b32ab",
   "metadata": {
    "ExecuteTime": {
     "end_time": "2023-05-28T06:12:53.613840Z",
     "start_time": "2023-05-28T06:12:53.338048Z"
    }
   },
   "outputs": [],
   "source": [
    "# Imports\n",
    "import tensorflow as tf\n",
    "import matplotlib.pyplot as plt\n",
    "from tensorflow import keras\n",
    "from tensorflow.keras import layers\n",
    "from tensorflow.keras.models import Model\n",
    "from tensorflow.keras.optimizers import Adam\n",
    "from city_sustainability.models import unet_model\n",
    "from tensorflow.keras.callbacks import EarlyStopping\n",
    "from city_sustainability.quality import life_quality\n",
    "from tensorflow.keras.applications.vgg16 import VGG16\n",
    "from city_sustainability.preprocessing import image_resize\n",
    "from tensorflow.keras.preprocessing.image import ImageDataGenerator\n",
    "from city_sustainability.loading_data_448x448 import loading_paths_448\n",
    "from tensorflow.keras.callbacks import ReduceLROnPlateau, EarlyStopping\n",
    "from city_sustainability.loading_data_448x448 import image_and_label_arrays_448\n",
    "from tensorflow.keras.layers import Conv2D, BatchNormalization, Dropout, MaxPooling2D, UpSampling2D, Concatenate, Input"
   ]
  },
  {
   "cell_type": "code",
   "execution_count": 4,
   "id": "eeb6b265",
   "metadata": {
    "ExecuteTime": {
     "end_time": "2023-05-28T06:12:55.546418Z",
     "start_time": "2023-05-28T06:12:55.539340Z"
    }
   },
   "outputs": [
    {
     "data": {
      "text/plain": [
       "'/home/marcel/code/Zubairslb/city_sustainability/notebooks/marcel'"
      ]
     },
     "execution_count": 4,
     "metadata": {},
     "output_type": "execute_result"
    }
   ],
   "source": [
    "pwd"
   ]
  },
  {
   "cell_type": "code",
   "execution_count": 11,
   "id": "a72e74ec",
   "metadata": {
    "ExecuteTime": {
     "end_time": "2023-05-28T06:18:01.368382Z",
     "start_time": "2023-05-28T06:17:56.824843Z"
    }
   },
   "outputs": [],
   "source": [
    "# Retrieve image_paths and label_paths\n",
    "data_path_1 = '../../raw_data/OpenEarthMap_wo_xBD'\n",
    "image_paths_448, label_paths_448 = loading_paths_448(data_path_1)\n",
    "# Import all image array as X and label array as y\n",
    "X, y = image_and_label_arrays_448(image_paths_448, label_paths_448, sampling_ratio=0.1)\n",
    "# Apply holdout\n",
    "from sklearn.model_selection import train_test_split\n",
    "X_train, X_test, y_train, y_test = train_test_split(X, y, test_size = 0.3)\n",
    "# Scale X and y\n",
    "X_train_scaled = X_train / 255\n",
    "X_test_scaled = X_test / 255"
   ]
  },
  {
   "cell_type": "code",
   "execution_count": 12,
   "id": "ee30eedd",
   "metadata": {
    "ExecuteTime": {
     "end_time": "2023-05-28T06:18:01.375288Z",
     "start_time": "2023-05-28T06:18:01.370573Z"
    }
   },
   "outputs": [
    {
     "data": {
      "text/plain": [
       "(81, 448, 448, 3)"
      ]
     },
     "execution_count": 12,
     "metadata": {},
     "output_type": "execute_result"
    }
   ],
   "source": [
    "X_test_scaled.shape"
   ]
  },
  {
   "cell_type": "code",
   "execution_count": 13,
   "id": "185014d8",
   "metadata": {
    "ExecuteTime": {
     "end_time": "2023-05-28T06:18:01.659322Z",
     "start_time": "2023-05-28T06:18:01.376925Z"
    }
   },
   "outputs": [],
   "source": [
    "# Create the model\n",
    "model_full = unet_model.build_vgg16_model_full(input_shape=(448, 448, 3), num_classes = 9)\n",
    "\n",
    "# When running from .py\n",
    "# model_full = unet_model.build_vgg16_model_full(input_shape=(400, 400, 3), num_classes = 9)"
   ]
  },
  {
   "cell_type": "code",
   "execution_count": 14,
   "id": "4a25621d",
   "metadata": {
    "ExecuteTime": {
     "end_time": "2023-05-28T06:18:03.414632Z",
     "start_time": "2023-05-28T06:18:03.401556Z"
    }
   },
   "outputs": [],
   "source": [
    "# Compile the model\n",
    "unet_model.compile_model(model_full)"
   ]
  },
  {
   "cell_type": "code",
   "execution_count": 15,
   "id": "ea08a113",
   "metadata": {
    "ExecuteTime": {
     "end_time": "2023-05-28T06:18:05.046634Z",
     "start_time": "2023-05-28T06:18:04.966209Z"
    }
   },
   "outputs": [
    {
     "name": "stdout",
     "output_type": "stream",
     "text": [
      "Model: \"model_1\"\n",
      "__________________________________________________________________________________________________\n",
      " Layer (type)                   Output Shape         Param #     Connected to                     \n",
      "==================================================================================================\n",
      " input_2 (InputLayer)           [(None, 448, 448, 3  0           []                               \n",
      "                                )]                                                                \n",
      "                                                                                                  \n",
      " block1_conv1 (Conv2D)          (None, 448, 448, 64  1792        ['input_2[0][0]']                \n",
      "                                )                                                                 \n",
      "                                                                                                  \n",
      " block1_conv2 (Conv2D)          (None, 448, 448, 64  36928       ['block1_conv1[0][0]']           \n",
      "                                )                                                                 \n",
      "                                                                                                  \n",
      " block1_pool (MaxPooling2D)     (None, 224, 224, 64  0           ['block1_conv2[0][0]']           \n",
      "                                )                                                                 \n",
      "                                                                                                  \n",
      " block2_conv1 (Conv2D)          (None, 224, 224, 12  73856       ['block1_pool[0][0]']            \n",
      "                                8)                                                                \n",
      "                                                                                                  \n",
      " block2_conv2 (Conv2D)          (None, 224, 224, 12  147584      ['block2_conv1[0][0]']           \n",
      "                                8)                                                                \n",
      "                                                                                                  \n",
      " block2_pool (MaxPooling2D)     (None, 112, 112, 12  0           ['block2_conv2[0][0]']           \n",
      "                                8)                                                                \n",
      "                                                                                                  \n",
      " block3_conv1 (Conv2D)          (None, 112, 112, 25  295168      ['block2_pool[0][0]']            \n",
      "                                6)                                                                \n",
      "                                                                                                  \n",
      " block3_conv2 (Conv2D)          (None, 112, 112, 25  590080      ['block3_conv1[0][0]']           \n",
      "                                6)                                                                \n",
      "                                                                                                  \n",
      " block3_conv3 (Conv2D)          (None, 112, 112, 25  590080      ['block3_conv2[0][0]']           \n",
      "                                6)                                                                \n",
      "                                                                                                  \n",
      " block3_pool (MaxPooling2D)     (None, 56, 56, 256)  0           ['block3_conv3[0][0]']           \n",
      "                                                                                                  \n",
      " block4_conv1 (Conv2D)          (None, 56, 56, 512)  1180160     ['block3_pool[0][0]']            \n",
      "                                                                                                  \n",
      " block4_conv2 (Conv2D)          (None, 56, 56, 512)  2359808     ['block4_conv1[0][0]']           \n",
      "                                                                                                  \n",
      " block4_conv3 (Conv2D)          (None, 56, 56, 512)  2359808     ['block4_conv2[0][0]']           \n",
      "                                                                                                  \n",
      " block4_pool (MaxPooling2D)     (None, 28, 28, 512)  0           ['block4_conv3[0][0]']           \n",
      "                                                                                                  \n",
      " block5_conv1 (Conv2D)          (None, 28, 28, 512)  2359808     ['block4_pool[0][0]']            \n",
      "                                                                                                  \n",
      " block5_conv2 (Conv2D)          (None, 28, 28, 512)  2359808     ['block5_conv1[0][0]']           \n",
      "                                                                                                  \n",
      " block5_conv3 (Conv2D)          (None, 28, 28, 512)  2359808     ['block5_conv2[0][0]']           \n",
      "                                                                                                  \n",
      " block5_pool (MaxPooling2D)     (None, 14, 14, 512)  0           ['block5_conv3[0][0]']           \n",
      "                                                                                                  \n",
      " up_sampling2d_5 (UpSampling2D)  (None, 28, 28, 512)  0          ['block5_pool[0][0]']            \n",
      "                                                                                                  \n",
      " concatenate_5 (Concatenate)    (None, 28, 28, 1024  0           ['block5_conv3[0][0]',           \n",
      "                                )                                 'up_sampling2d_5[0][0]']        \n",
      "                                                                                                  \n",
      " conv2d_6 (Conv2D)              (None, 28, 28, 512)  4719104     ['concatenate_5[0][0]']          \n",
      "                                                                                                  \n",
      " batch_normalization_5 (BatchNo  (None, 28, 28, 512)  2048       ['conv2d_6[0][0]']               \n",
      " rmalization)                                                                                     \n",
      "                                                                                                  \n",
      " dropout_5 (Dropout)            (None, 28, 28, 512)  0           ['batch_normalization_5[0][0]']  \n",
      "                                                                                                  \n",
      " up_sampling2d_6 (UpSampling2D)  (None, 56, 56, 512)  0          ['dropout_5[0][0]']              \n",
      "                                                                                                  \n",
      " concatenate_6 (Concatenate)    (None, 56, 56, 1024  0           ['block4_conv3[0][0]',           \n",
      "                                )                                 'up_sampling2d_6[0][0]']        \n",
      "                                                                                                  \n",
      " conv2d_7 (Conv2D)              (None, 56, 56, 512)  4719104     ['concatenate_6[0][0]']          \n",
      "                                                                                                  \n",
      " batch_normalization_6 (BatchNo  (None, 56, 56, 512)  2048       ['conv2d_7[0][0]']               \n",
      " rmalization)                                                                                     \n",
      "                                                                                                  \n",
      " dropout_6 (Dropout)            (None, 56, 56, 512)  0           ['batch_normalization_6[0][0]']  \n",
      "                                                                                                  \n",
      " up_sampling2d_7 (UpSampling2D)  (None, 112, 112, 51  0          ['dropout_6[0][0]']              \n",
      "                                2)                                                                \n",
      "                                                                                                  \n",
      " concatenate_7 (Concatenate)    (None, 112, 112, 76  0           ['block3_conv3[0][0]',           \n",
      "                                8)                                'up_sampling2d_7[0][0]']        \n",
      "                                                                                                  \n",
      " conv2d_8 (Conv2D)              (None, 112, 112, 25  1769728     ['concatenate_7[0][0]']          \n",
      "                                6)                                                                \n"
     ]
    },
    {
     "name": "stdout",
     "output_type": "stream",
     "text": [
      "                                                                                                  \n",
      " batch_normalization_7 (BatchNo  (None, 112, 112, 25  1024       ['conv2d_8[0][0]']               \n",
      " rmalization)                   6)                                                                \n",
      "                                                                                                  \n",
      " dropout_7 (Dropout)            (None, 112, 112, 25  0           ['batch_normalization_7[0][0]']  \n",
      "                                6)                                                                \n",
      "                                                                                                  \n",
      " up_sampling2d_8 (UpSampling2D)  (None, 224, 224, 25  0          ['dropout_7[0][0]']              \n",
      "                                6)                                                                \n",
      "                                                                                                  \n",
      " concatenate_8 (Concatenate)    (None, 224, 224, 38  0           ['block2_conv2[0][0]',           \n",
      "                                4)                                'up_sampling2d_8[0][0]']        \n",
      "                                                                                                  \n",
      " conv2d_9 (Conv2D)              (None, 224, 224, 12  442496      ['concatenate_8[0][0]']          \n",
      "                                8)                                                                \n",
      "                                                                                                  \n",
      " batch_normalization_8 (BatchNo  (None, 224, 224, 12  512        ['conv2d_9[0][0]']               \n",
      " rmalization)                   8)                                                                \n",
      "                                                                                                  \n",
      " dropout_8 (Dropout)            (None, 224, 224, 12  0           ['batch_normalization_8[0][0]']  \n",
      "                                8)                                                                \n",
      "                                                                                                  \n",
      " up_sampling2d_9 (UpSampling2D)  (None, 448, 448, 12  0          ['dropout_8[0][0]']              \n",
      "                                8)                                                                \n",
      "                                                                                                  \n",
      " concatenate_9 (Concatenate)    (None, 448, 448, 19  0           ['block1_conv2[0][0]',           \n",
      "                                2)                                'up_sampling2d_9[0][0]']        \n",
      "                                                                                                  \n",
      " conv2d_10 (Conv2D)             (None, 448, 448, 64  110656      ['concatenate_9[0][0]']          \n",
      "                                )                                                                 \n",
      "                                                                                                  \n",
      " batch_normalization_9 (BatchNo  (None, 448, 448, 64  256        ['conv2d_10[0][0]']              \n",
      " rmalization)                   )                                                                 \n",
      "                                                                                                  \n",
      " dropout_9 (Dropout)            (None, 448, 448, 64  0           ['batch_normalization_9[0][0]']  \n",
      "                                )                                                                 \n",
      "                                                                                                  \n",
      " conv2d_11 (Conv2D)             (None, 448, 448, 9)  585         ['dropout_9[0][0]']              \n",
      "                                                                                                  \n",
      "==================================================================================================\n",
      "Total params: 26,482,249\n",
      "Trainable params: 11,764,617\n",
      "Non-trainable params: 14,717,632\n",
      "__________________________________________________________________________________________________\n"
     ]
    }
   ],
   "source": [
    "model_full.summary()"
   ]
  },
  {
   "cell_type": "code",
   "execution_count": 16,
   "id": "5249b7a2",
   "metadata": {
    "ExecuteTime": {
     "end_time": "2023-05-28T06:29:51.822078Z",
     "start_time": "2023-05-28T06:18:06.445797Z"
    },
    "scrolled": true
   },
   "outputs": [
    {
     "name": "stdout",
     "output_type": "stream",
     "text": [
      "Epoch 1/3\n",
      "1/1 [==============================] - 22s 22s/step - loss: 2.8417 - accuracy: 0.1065 - compute_iou: 0.0593 - val_loss: 5.0349 - val_accuracy: 0.2405 - val_compute_iou: 0.1443 - lr: 1.0000e-04\n",
      "WARNING:tensorflow:5 out of the last 5 calls to <function Model.make_train_function.<locals>.train_function at 0x7f8bcf5d40d0> triggered tf.function retracing. Tracing is expensive and the excessive number of tracings could be due to (1) creating @tf.function repeatedly in a loop, (2) passing tensors with different shapes, (3) passing Python objects instead of tensors. For (1), please define your @tf.function outside of the loop. For (2), @tf.function has reduce_retracing=True option that can avoid unnecessary retracing. For (3), please refer to https://www.tensorflow.org/guide/function#controlling_retracing and https://www.tensorflow.org/api_docs/python/tf/function for  more details.\n",
      "1/1 [==============================] - ETA: 0s - loss: 2.6615 - accuracy: 0.1391 - compute_iou: 0.0687WARNING:tensorflow:5 out of the last 8 calls to <function Model.make_test_function.<locals>.test_function at 0x7f8bcf5d4b80> triggered tf.function retracing. Tracing is expensive and the excessive number of tracings could be due to (1) creating @tf.function repeatedly in a loop, (2) passing tensors with different shapes, (3) passing Python objects instead of tensors. For (1), please define your @tf.function outside of the loop. For (2), @tf.function has reduce_retracing=True option that can avoid unnecessary retracing. For (3), please refer to https://www.tensorflow.org/guide/function#controlling_retracing and https://www.tensorflow.org/api_docs/python/tf/function for  more details.\n",
      "1/1 [==============================] - 24s 24s/step - loss: 2.6615 - accuracy: 0.1391 - compute_iou: 0.0687 - val_loss: 6.3578 - val_accuracy: 0.1439 - val_compute_iou: 0.0785 - lr: 1.0000e-04\n",
      "WARNING:tensorflow:6 out of the last 6 calls to <function Model.make_train_function.<locals>.train_function at 0x7f8be50f8280> triggered tf.function retracing. Tracing is expensive and the excessive number of tracings could be due to (1) creating @tf.function repeatedly in a loop, (2) passing tensors with different shapes, (3) passing Python objects instead of tensors. For (1), please define your @tf.function outside of the loop. For (2), @tf.function has reduce_retracing=True option that can avoid unnecessary retracing. For (3), please refer to https://www.tensorflow.org/guide/function#controlling_retracing and https://www.tensorflow.org/api_docs/python/tf/function for  more details.\n",
      "1/1 [==============================] - ETA: 0s - loss: 2.5458 - accuracy: 0.1632 - compute_iou: 0.0759WARNING:tensorflow:6 out of the last 9 calls to <function Model.make_test_function.<locals>.test_function at 0x7f8bcf35dc10> triggered tf.function retracing. Tracing is expensive and the excessive number of tracings could be due to (1) creating @tf.function repeatedly in a loop, (2) passing tensors with different shapes, (3) passing Python objects instead of tensors. For (1), please define your @tf.function outside of the loop. For (2), @tf.function has reduce_retracing=True option that can avoid unnecessary retracing. For (3), please refer to https://www.tensorflow.org/guide/function#controlling_retracing and https://www.tensorflow.org/api_docs/python/tf/function for  more details.\n",
      "1/1 [==============================] - 23s 23s/step - loss: 2.5458 - accuracy: 0.1632 - compute_iou: 0.0759 - val_loss: 4.4374 - val_accuracy: 0.2765 - val_compute_iou: 0.1578 - lr: 1.0000e-04\n",
      "1/1 [==============================] - 24s 24s/step - loss: 2.3682 - accuracy: 0.2152 - compute_iou: 0.0878 - val_loss: 4.9745 - val_accuracy: 0.2677 - val_compute_iou: 0.1449 - lr: 1.0000e-04\n",
      "1/1 [==============================] - 23s 23s/step - loss: 2.2646 - accuracy: 0.2586 - compute_iou: 0.1000 - val_loss: 5.5432 - val_accuracy: 0.2077 - val_compute_iou: 0.1081 - lr: 1.0000e-04\n",
      "1/1 [==============================] - 23s 23s/step - loss: 2.1525 - accuracy: 0.2883 - compute_iou: 0.1124 - val_loss: 5.1465 - val_accuracy: 0.1646 - val_compute_iou: 0.0879 - lr: 1.0000e-04\n",
      "1/1 [==============================] - 23s 23s/step - loss: 2.0368 - accuracy: 0.3399 - compute_iou: 0.1316 - val_loss: 4.1277 - val_accuracy: 0.2916 - val_compute_iou: 0.1582 - lr: 1.0000e-04\n",
      "1/1 [==============================] - 24s 24s/step - loss: 2.1370 - accuracy: 0.2651 - compute_iou: 0.1169 - val_loss: 4.4197 - val_accuracy: 0.2209 - val_compute_iou: 0.1219 - lr: 1.0000e-04\n",
      "1/1 [==============================] - 10s 10s/step - loss: 2.0314 - accuracy: 0.3237 - compute_iou: 0.1213 - val_loss: 3.1735 - val_accuracy: 0.3491 - val_compute_iou: 0.2056 - lr: 1.0000e-04\n",
      "1/1 [==============================] - 8s 8s/step - loss: 3.5855 - accuracy: 0.3513 - compute_iou: 0.2020\n",
      "1/1 [==============================] - 8s 8s/step\n",
      "Evaluation results:\n",
      "Loss: 3.5855\n",
      "Accuracy: 0.3513\n",
      "Model IoU: 0.2020\n",
      "Calculated IoU: 0.2020\n",
      "1/1 [==============================] - 8s 8s/step - loss: 3.3286 - accuracy: 0.3731 - compute_iou: 0.2206\n",
      "1/1 [==============================] - 8s 8s/step\n",
      "Evaluation results:\n",
      "Loss: 3.3286\n",
      "Accuracy: 0.3731\n",
      "Model IoU: 0.2206\n",
      "Calculated IoU: 0.2206\n",
      "1/1 [==============================] - 0s 474ms/step - loss: 3.3751 - accuracy: 0.3323 - compute_iou: 0.1882\n",
      "1/1 [==============================] - 0s 464ms/step\n",
      "Evaluation results:\n",
      "Loss: 3.3751\n",
      "Accuracy: 0.3323\n",
      "Model IoU: 0.1882\n",
      "Calculated IoU: 0.1882\n",
      "Average validation loss: 3.4297\n",
      "Epoch 2/3\n",
      "1/1 [==============================] - 23s 23s/step - loss: 1.9313 - accuracy: 0.3278 - compute_iou: 0.1380 - val_loss: 2.9421 - val_accuracy: 0.3733 - val_compute_iou: 0.2232 - lr: 1.0000e-04\n",
      "1/1 [==============================] - 23s 23s/step - loss: 1.9126 - accuracy: 0.3503 - compute_iou: 0.1450 - val_loss: 3.5635 - val_accuracy: 0.4603 - val_compute_iou: 0.2843 - lr: 1.0000e-04\n",
      "1/1 [==============================] - 23s 23s/step - loss: 1.8647 - accuracy: 0.3585 - compute_iou: 0.1600 - val_loss: 3.7797 - val_accuracy: 0.4232 - val_compute_iou: 0.2852 - lr: 1.0000e-04\n",
      "1/1 [==============================] - 23s 23s/step - loss: 1.7419 - accuracy: 0.4001 - compute_iou: 0.1662 - val_loss: 4.1511 - val_accuracy: 0.3943 - val_compute_iou: 0.2357 - lr: 1.0000e-04\n",
      "1/1 [==============================] - 23s 23s/step - loss: 1.6888 - accuracy: 0.4256 - compute_iou: 0.1744 - val_loss: 3.0635 - val_accuracy: 0.4557 - val_compute_iou: 0.2670 - lr: 1.0000e-04\n",
      "1/1 [==============================] - 23s 23s/step - loss: 1.6149 - accuracy: 0.4594 - compute_iou: 0.1895 - val_loss: 3.0863 - val_accuracy: 0.3975 - val_compute_iou: 0.2346 - lr: 1.0000e-04\n",
      "1/1 [==============================] - 23s 23s/step - loss: 1.5853 - accuracy: 0.4665 - compute_iou: 0.2084 - val_loss: 5.0445 - val_accuracy: 0.3197 - val_compute_iou: 0.1871 - lr: 1.0000e-04\n",
      "1/1 [==============================] - 23s 23s/step - loss: 1.6158 - accuracy: 0.4509 - compute_iou: 0.1919 - val_loss: 5.6049 - val_accuracy: 0.2752 - val_compute_iou: 0.1590 - lr: 1.0000e-04\n",
      "1/1 [==============================] - 10s 10s/step - loss: 1.4770 - accuracy: 0.5251 - compute_iou: 0.2130 - val_loss: 5.2931 - val_accuracy: 0.1965 - val_compute_iou: 0.1128 - lr: 1.0000e-04\n",
      "1/1 [==============================] - 8s 8s/step - loss: 4.0549 - accuracy: 0.3542 - compute_iou: 0.2147\n",
      "WARNING:tensorflow:5 out of the last 7 calls to <function Model.make_predict_function.<locals>.predict_function at 0x7f8bee979ee0> triggered tf.function retracing. Tracing is expensive and the excessive number of tracings could be due to (1) creating @tf.function repeatedly in a loop, (2) passing tensors with different shapes, (3) passing Python objects instead of tensors. For (1), please define your @tf.function outside of the loop. For (2), @tf.function has reduce_retracing=True option that can avoid unnecessary retracing. For (3), please refer to https://www.tensorflow.org/guide/function#controlling_retracing and https://www.tensorflow.org/api_docs/python/tf/function for  more details.\n",
      "1/1 [==============================] - 8s 8s/step\n",
      "Evaluation results:\n",
      "Loss: 4.0549\n",
      "Accuracy: 0.3542\n",
      "Model IoU: 0.2147\n",
      "Calculated IoU: 0.2147\n"
     ]
    },
    {
     "name": "stdout",
     "output_type": "stream",
     "text": [
      "1/1 [==============================] - 8s 8s/step - loss: 3.7387 - accuracy: 0.3627 - compute_iou: 0.2211\n",
      "1/1 [==============================] - 8s 8s/step\n",
      "Evaluation results:\n",
      "Loss: 3.7387\n",
      "Accuracy: 0.3627\n",
      "Model IoU: 0.2211\n",
      "Calculated IoU: 0.2211\n",
      "1/1 [==============================] - 0s 475ms/step - loss: 5.0696 - accuracy: 0.2742 - compute_iou: 0.1620\n",
      "1/1 [==============================] - 1s 537ms/step\n",
      "Evaluation results:\n",
      "Loss: 5.0696\n",
      "Accuracy: 0.2742\n",
      "Model IoU: 0.1620\n",
      "Calculated IoU: 0.1620\n",
      "Average validation loss: 4.2877\n",
      "Epoch 3/3\n",
      "1/1 [==============================] - 24s 24s/step - loss: 1.7185 - accuracy: 0.3985 - compute_iou: 0.1792 - val_loss: 3.7422 - val_accuracy: 0.4603 - val_compute_iou: 0.3112 - lr: 1.0000e-04\n",
      "1/1 [==============================] - 23s 23s/step - loss: 1.4677 - accuracy: 0.4814 - compute_iou: 0.2110 - val_loss: 2.9876 - val_accuracy: 0.6029 - val_compute_iou: 0.4122 - lr: 1.0000e-04\n",
      "1/1 [==============================] - 23s 23s/step - loss: 1.5305 - accuracy: 0.4660 - compute_iou: 0.2132 - val_loss: 5.3153 - val_accuracy: 0.2829 - val_compute_iou: 0.1680 - lr: 1.0000e-04\n",
      "1/1 [==============================] - 23s 23s/step - loss: 1.4353 - accuracy: 0.5048 - compute_iou: 0.2235 - val_loss: 3.8637 - val_accuracy: 0.3896 - val_compute_iou: 0.2418 - lr: 1.0000e-04\n",
      "1/1 [==============================] - 23s 23s/step - loss: 1.3498 - accuracy: 0.5362 - compute_iou: 0.2458 - val_loss: 3.9367 - val_accuracy: 0.3497 - val_compute_iou: 0.2006 - lr: 1.0000e-04\n",
      "1/1 [==============================] - 23s 23s/step - loss: 1.5254 - accuracy: 0.4637 - compute_iou: 0.2181 - val_loss: 3.5557 - val_accuracy: 0.4729 - val_compute_iou: 0.3021 - lr: 1.0000e-04\n",
      "1/1 [==============================] - 23s 23s/step - loss: 1.4459 - accuracy: 0.4940 - compute_iou: 0.2262 - val_loss: 3.3548 - val_accuracy: 0.3750 - val_compute_iou: 0.2236 - lr: 1.0000e-04\n",
      "1/1 [==============================] - 24s 24s/step - loss: 1.3434 - accuracy: 0.5482 - compute_iou: 0.2591 - val_loss: 4.1535 - val_accuracy: 0.3832 - val_compute_iou: 0.2293 - lr: 1.0000e-04\n",
      "1/1 [==============================] - 10s 10s/step - loss: 1.6014 - accuracy: 0.4503 - compute_iou: 0.1946 - val_loss: 1.7709 - val_accuracy: 0.6824 - val_compute_iou: 0.5004 - lr: 1.0000e-04\n",
      "1/1 [==============================] - 8s 8s/step - loss: 3.6392 - accuracy: 0.3707 - compute_iou: 0.2255\n",
      "WARNING:tensorflow:6 out of the last 10 calls to <function Model.make_predict_function.<locals>.predict_function at 0x7f8bd2b3ec10> triggered tf.function retracing. Tracing is expensive and the excessive number of tracings could be due to (1) creating @tf.function repeatedly in a loop, (2) passing tensors with different shapes, (3) passing Python objects instead of tensors. For (1), please define your @tf.function outside of the loop. For (2), @tf.function has reduce_retracing=True option that can avoid unnecessary retracing. For (3), please refer to https://www.tensorflow.org/guide/function#controlling_retracing and https://www.tensorflow.org/api_docs/python/tf/function for  more details.\n",
      "1/1 [==============================] - 8s 8s/step\n",
      "Evaluation results:\n",
      "Loss: 3.6392\n",
      "Accuracy: 0.3707\n",
      "Model IoU: 0.2255\n",
      "Calculated IoU: 0.2255\n",
      "1/1 [==============================] - 8s 8s/step - loss: 3.3656 - accuracy: 0.3652 - compute_iou: 0.2232\n",
      "1/1 [==============================] - 8s 8s/step\n",
      "Evaluation results:\n",
      "Loss: 3.3656\n",
      "Accuracy: 0.3652\n",
      "Model IoU: 0.2232\n",
      "Calculated IoU: 0.2232\n",
      "1/1 [==============================] - 1s 513ms/step - loss: 4.1693 - accuracy: 0.2783 - compute_iou: 0.1590\n",
      "1/1 [==============================] - 0s 476ms/step\n",
      "Evaluation results:\n",
      "Loss: 4.1693\n",
      "Accuracy: 0.2783\n",
      "Model IoU: 0.1590\n",
      "Calculated IoU: 0.1590\n",
      "Average validation loss: 3.7247\n"
     ]
    }
   ],
   "source": [
    "# This line runs the model without batches.\n",
    "# unet_model.train_model(model_full, X_train_scaled, y_train, epochs = 1, batch_size=18, validation_split=0.2)\n",
    "\n",
    "# This code below runs the model with batches\n",
    "# Create an instance of ImageDataGenerator\n",
    "datagen = ImageDataGenerator(validation_split=0.2)\n",
    "\n",
    "# Generate train and valid data iterator\n",
    "train_iterator = datagen.flow(X_train_scaled, y_train, subset='training', batch_size=64)\n",
    "valid_iterator = datagen.flow(X_train_scaled, y_train, subset='validation', batch_size=64)\n",
    "steps_per_epoch = len(train_iterator)\n",
    "\n",
    "# Train the model in batches\n",
    "epochs = 3\n",
    "for epoch in range(epochs):\n",
    "    print(\"Epoch {}/{}\".format(epoch + 1, epochs))\n",
    "    for step in range(steps_per_epoch):\n",
    "        X_batch, y_batch = next(train_iterator)\n",
    "        unet_model.train_model(model_full, X_batch, y_batch)\n",
    "    \n",
    "    # Evaluate the model on the validation data\n",
    "    steps_valid = len(valid_iterator)\n",
    "    total_val_loss = 0\n",
    "    for step in range(steps_valid):\n",
    "        X_val_batch, y_val_batch = next(valid_iterator)\n",
    "        validation_loss = unet_model.evaluate_model(model_full, X_val_batch, y_val_batch)\n",
    "        total_val_loss += validation_loss\n",
    "    print(\"Average validation loss: {:.4f}\".format(total_val_loss/steps_valid))"
   ]
  },
  {
   "cell_type": "code",
   "execution_count": null,
   "id": "532b07de",
   "metadata": {},
   "outputs": [],
   "source": []
  }
 ],
 "metadata": {
  "kernelspec": {
   "display_name": "Python 3 (ipykernel)",
   "language": "python",
   "name": "python3"
  },
  "language_info": {
   "codemirror_mode": {
    "name": "ipython",
    "version": 3
   },
   "file_extension": ".py",
   "mimetype": "text/x-python",
   "name": "python",
   "nbconvert_exporter": "python",
   "pygments_lexer": "ipython3",
   "version": "3.8.12"
  },
  "toc": {
   "base_numbering": 1,
   "nav_menu": {},
   "number_sections": true,
   "sideBar": true,
   "skip_h1_title": false,
   "title_cell": "Table of Contents",
   "title_sidebar": "Contents",
   "toc_cell": false,
   "toc_position": {},
   "toc_section_display": true,
   "toc_window_display": false
  }
 },
 "nbformat": 4,
 "nbformat_minor": 5
}
