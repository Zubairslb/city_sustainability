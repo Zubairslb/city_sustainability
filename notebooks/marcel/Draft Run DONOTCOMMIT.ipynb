{
 "cells": [
  {
   "cell_type": "code",
   "execution_count": 1,
   "id": "15724db8",
   "metadata": {
    "ExecuteTime": {
     "end_time": "2023-05-23T17:43:01.945760Z",
     "start_time": "2023-05-23T17:42:58.525149Z"
    }
   },
   "outputs": [
    {
     "name": "stderr",
     "output_type": "stream",
     "text": [
      "2023-05-23 21:42:58.946922: I tensorflow/tsl/cuda/cudart_stub.cc:28] Could not find cuda drivers on your machine, GPU will not be used.\n",
      "2023-05-23 21:42:59.225904: I tensorflow/tsl/cuda/cudart_stub.cc:28] Could not find cuda drivers on your machine, GPU will not be used.\n",
      "2023-05-23 21:42:59.227551: I tensorflow/core/platform/cpu_feature_guard.cc:182] This TensorFlow binary is optimized to use available CPU instructions in performance-critical operations.\n",
      "To enable the following instructions: AVX2 FMA, in other operations, rebuild TensorFlow with the appropriate compiler flags.\n",
      "2023-05-23 21:43:00.409165: W tensorflow/compiler/tf2tensorrt/utils/py_utils.cc:38] TF-TRT Warning: Could not find TensorRT\n"
     ]
    }
   ],
   "source": [
    "# Imports\n",
    "import tensorflow as tf\n",
    "from city_sustainability.models import unet_model\n",
    "from city_sustainability.preprocessing import image_resize\n",
    "from city_sustainability.loading_data import loading_paths, image_and_label_arrays"
   ]
  },
  {
   "cell_type": "code",
   "execution_count": 2,
   "id": "12cf9c71",
   "metadata": {
    "ExecuteTime": {
     "end_time": "2023-05-23T17:43:02.020479Z",
     "start_time": "2023-05-23T17:43:01.947567Z"
    }
   },
   "outputs": [],
   "source": [
    "# Retrieve image_paths and label_paths\n",
    "data_path_1 = '../../raw_data/OpenEarthMap_wo_xBD'\n",
    "image_paths, label_paths = loading_paths(data_path_1)"
   ]
  },
  {
   "cell_type": "code",
   "execution_count": 3,
   "id": "1a6cbe12",
   "metadata": {
    "ExecuteTime": {
     "end_time": "2023-05-23T17:43:02.027786Z",
     "start_time": "2023-05-23T17:43:02.022212Z"
    }
   },
   "outputs": [
    {
     "data": {
      "text/plain": [
       "2687"
      ]
     },
     "execution_count": 3,
     "metadata": {},
     "output_type": "execute_result"
    }
   ],
   "source": [
    "# Check length of image_paths\n",
    "len(image_paths)"
   ]
  },
  {
   "cell_type": "code",
   "execution_count": 4,
   "id": "4792dad5",
   "metadata": {
    "ExecuteTime": {
     "end_time": "2023-05-23T17:43:02.036439Z",
     "start_time": "2023-05-23T17:43:02.029432Z"
    }
   },
   "outputs": [
    {
     "data": {
      "text/plain": [
       "2687"
      ]
     },
     "execution_count": 4,
     "metadata": {},
     "output_type": "execute_result"
    }
   ],
   "source": [
    "# Check length of label_paths\n",
    "len(label_paths)"
   ]
  },
  {
   "cell_type": "code",
   "execution_count": 5,
   "id": "ba72de05",
   "metadata": {
    "ExecuteTime": {
     "end_time": "2023-05-23T17:43:34.050848Z",
     "start_time": "2023-05-23T17:43:02.039539Z"
    }
   },
   "outputs": [],
   "source": [
    "# Import all image array as X and label array as y\n",
    "\n",
    "X, y = image_and_label_arrays(image_paths, label_paths)"
   ]
  },
  {
   "cell_type": "code",
   "execution_count": 6,
   "id": "275c29b0",
   "metadata": {
    "ExecuteTime": {
     "end_time": "2023-05-23T17:43:36.212540Z",
     "start_time": "2023-05-23T17:43:34.054492Z"
    }
   },
   "outputs": [],
   "source": [
    "# Apply holdout\n",
    "\n",
    "from sklearn.model_selection import train_test_split\n",
    "X_train, X_test, y_train, y_test = train_test_split(X, y, test_size = 0.3)"
   ]
  },
  {
   "cell_type": "code",
   "execution_count": 7,
   "id": "62420f24",
   "metadata": {
    "ExecuteTime": {
     "end_time": "2023-05-23T17:43:37.544168Z",
     "start_time": "2023-05-23T17:43:36.214585Z"
    }
   },
   "outputs": [],
   "source": [
    "# Scale X and y\n",
    "\n",
    "X_train_scaled = X_train / 255\n",
    "\n",
    "X_test_scaled = X_test / 255"
   ]
  },
  {
   "cell_type": "code",
   "execution_count": 8,
   "id": "7eb85db0",
   "metadata": {
    "ExecuteTime": {
     "end_time": "2023-05-23T17:43:37.550714Z",
     "start_time": "2023-05-23T17:43:37.546784Z"
    }
   },
   "outputs": [
    {
     "data": {
      "text/plain": [
       "(1880, 256, 256, 3)"
      ]
     },
     "execution_count": 8,
     "metadata": {},
     "output_type": "execute_result"
    }
   ],
   "source": [
    "# Confirm shapes\n",
    "\n",
    "X_train.shape"
   ]
  },
  {
   "cell_type": "code",
   "execution_count": 9,
   "id": "9fdf3d63",
   "metadata": {
    "ExecuteTime": {
     "end_time": "2023-05-23T17:43:37.559787Z",
     "start_time": "2023-05-23T17:43:37.552758Z"
    }
   },
   "outputs": [
    {
     "data": {
      "text/plain": [
       "(807, 256, 256, 3)"
      ]
     },
     "execution_count": 9,
     "metadata": {},
     "output_type": "execute_result"
    }
   ],
   "source": [
    "X_test.shape"
   ]
  },
  {
   "cell_type": "code",
   "execution_count": 10,
   "id": "083eaa3a",
   "metadata": {
    "ExecuteTime": {
     "end_time": "2023-05-23T17:43:37.566106Z",
     "start_time": "2023-05-23T17:43:37.562115Z"
    }
   },
   "outputs": [
    {
     "data": {
      "text/plain": [
       "(1880, 256, 256, 9)"
      ]
     },
     "execution_count": 10,
     "metadata": {},
     "output_type": "execute_result"
    }
   ],
   "source": [
    "y_train.shape"
   ]
  },
  {
   "cell_type": "code",
   "execution_count": 11,
   "id": "f64835f4",
   "metadata": {
    "ExecuteTime": {
     "end_time": "2023-05-23T17:43:37.571880Z",
     "start_time": "2023-05-23T17:43:37.568092Z"
    }
   },
   "outputs": [
    {
     "data": {
      "text/plain": [
       "(807, 256, 256, 9)"
      ]
     },
     "execution_count": 11,
     "metadata": {},
     "output_type": "execute_result"
    }
   ],
   "source": [
    "y_test.shape"
   ]
  },
  {
   "cell_type": "code",
   "execution_count": 12,
   "id": "9aabdd12",
   "metadata": {
    "ExecuteTime": {
     "end_time": "2023-05-23T17:43:37.577668Z",
     "start_time": "2023-05-23T17:43:37.574120Z"
    }
   },
   "outputs": [
    {
     "data": {
      "text/plain": [
       "(1880, 256, 256, 3)"
      ]
     },
     "execution_count": 12,
     "metadata": {},
     "output_type": "execute_result"
    }
   ],
   "source": [
    "X_train_scaled.shape"
   ]
  },
  {
   "cell_type": "code",
   "execution_count": 17,
   "id": "9938c3d2",
   "metadata": {
    "ExecuteTime": {
     "end_time": "2023-05-23T13:26:49.257863Z",
     "start_time": "2023-05-23T13:26:49.220610Z"
    }
   },
   "outputs": [
    {
     "data": {
      "text/plain": [
       "(807, 256, 256, 3)"
      ]
     },
     "execution_count": 17,
     "metadata": {},
     "output_type": "execute_result"
    }
   ],
   "source": [
    "X_test_scaled.shape"
   ]
  },
  {
   "cell_type": "code",
   "execution_count": 13,
   "id": "96add111",
   "metadata": {
    "ExecuteTime": {
     "end_time": "2023-05-23T17:43:38.006932Z",
     "start_time": "2023-05-23T17:43:37.579314Z"
    }
   },
   "outputs": [
    {
     "name": "stderr",
     "output_type": "stream",
     "text": [
      "2023-05-23 21:43:37.878224: I tensorflow/compiler/xla/stream_executor/cuda/cuda_gpu_executor.cc:982] could not open file to read NUMA node: /sys/bus/pci/devices/0000:01:00.0/numa_node\n",
      "Your kernel may have been built without NUMA support.\n",
      "2023-05-23 21:43:37.881585: W tensorflow/core/common_runtime/gpu/gpu_device.cc:1956] Cannot dlopen some GPU libraries. Please make sure the missing libraries mentioned above are installed properly if you would like to use GPU. Follow the guide at https://www.tensorflow.org/install/gpu for how to download and setup the required libraries for your platform.\n",
      "Skipping registering GPU devices...\n"
     ]
    }
   ],
   "source": [
    "# Create the model\n",
    "\n",
    "model = unet_model.build_model(input_shape=(256, 256, 3), num_classes = 9)"
   ]
  },
  {
   "cell_type": "code",
   "execution_count": 14,
   "id": "d8d7f730",
   "metadata": {
    "ExecuteTime": {
     "end_time": "2023-05-23T17:43:42.670062Z",
     "start_time": "2023-05-23T17:43:42.656795Z"
    }
   },
   "outputs": [],
   "source": [
    "# Compile the model\n",
    "\n",
    "unet_model.compile_model(model)"
   ]
  },
  {
   "cell_type": "code",
   "execution_count": 15,
   "id": "000ac9a4",
   "metadata": {
    "ExecuteTime": {
     "end_time": "2023-05-23T21:09:23.947985Z",
     "start_time": "2023-05-23T17:43:52.124858Z"
    }
   },
   "outputs": [
    {
     "name": "stdout",
     "output_type": "stream",
     "text": [
      "Epoch 1/30\n"
     ]
    },
    {
     "name": "stderr",
     "output_type": "stream",
     "text": [
      "2023-05-23 21:43:52.830214: W tensorflow/tsl/framework/cpu_allocator_impl.cc:83] Allocation of 3548381184 exceeds 10% of free system memory.\n",
      "2023-05-23 21:43:57.704530: W tensorflow/tsl/framework/cpu_allocator_impl.cc:83] Allocation of 3221225472 exceeds 10% of free system memory.\n",
      "2023-05-23 21:44:11.811421: W tensorflow/tsl/framework/cpu_allocator_impl.cc:83] Allocation of 3221225472 exceeds 10% of free system memory.\n"
     ]
    },
    {
     "name": "stdout",
     "output_type": "stream",
     "text": [
      "\r",
      " 1/24 [>.............................] - ETA: 12:08 - loss: 2.8873 - accuracy: 0.1179"
     ]
    },
    {
     "name": "stderr",
     "output_type": "stream",
     "text": [
      "2023-05-23 21:44:27.721190: W tensorflow/tsl/framework/cpu_allocator_impl.cc:83] Allocation of 3221225472 exceeds 10% of free system memory.\n",
      "2023-05-23 21:44:30.596660: W tensorflow/tsl/framework/cpu_allocator_impl.cc:83] Allocation of 3221225472 exceeds 10% of free system memory.\n"
     ]
    },
    {
     "name": "stdout",
     "output_type": "stream",
     "text": [
      "24/24 [==============================] - 493s 20s/step - loss: 2.1103 - accuracy: 0.2915 - val_loss: 2.1747 - val_accuracy: 0.1722 - lr: 1.0000e-04\n",
      "Epoch 2/30\n",
      "24/24 [==============================] - 426s 18s/step - loss: 1.7350 - accuracy: 0.3799 - val_loss: 2.1668 - val_accuracy: 0.1035 - lr: 1.0000e-04\n",
      "Epoch 3/30\n",
      "24/24 [==============================] - 423s 18s/step - loss: 1.6307 - accuracy: 0.4054 - val_loss: 2.2227 - val_accuracy: 0.1037 - lr: 1.0000e-04\n",
      "Epoch 4/30\n",
      "24/24 [==============================] - 411s 17s/step - loss: 1.5762 - accuracy: 0.4216 - val_loss: 2.3257 - val_accuracy: 0.1182 - lr: 1.0000e-04\n",
      "Epoch 5/30\n",
      "24/24 [==============================] - 410s 17s/step - loss: 1.5427 - accuracy: 0.4308 - val_loss: 2.5038 - val_accuracy: 0.1158 - lr: 1.0000e-04\n",
      "Epoch 6/30\n",
      "24/24 [==============================] - 412s 17s/step - loss: 1.5099 - accuracy: 0.4411 - val_loss: 2.5838 - val_accuracy: 0.1499 - lr: 1.0000e-04\n",
      "Epoch 7/30\n",
      "24/24 [==============================] - ETA: 0s - loss: 1.4931 - accuracy: 0.4441 \n",
      "Epoch 7: ReduceLROnPlateau reducing learning rate to 1e-05.\n",
      "24/24 [==============================] - 410s 17s/step - loss: 1.4931 - accuracy: 0.4441 - val_loss: 2.6545 - val_accuracy: 0.1174 - lr: 1.0000e-04\n",
      "Epoch 8/30\n",
      "24/24 [==============================] - 409s 17s/step - loss: 1.4775 - accuracy: 0.4501 - val_loss: 2.7100 - val_accuracy: 0.1169 - lr: 1.0000e-05\n",
      "Epoch 9/30\n",
      "24/24 [==============================] - 410s 17s/step - loss: 1.4744 - accuracy: 0.4508 - val_loss: 2.7181 - val_accuracy: 0.1155 - lr: 1.0000e-05\n",
      "Epoch 10/30\n",
      "24/24 [==============================] - 408s 17s/step - loss: 1.4667 - accuracy: 0.4526 - val_loss: 2.7007 - val_accuracy: 0.1153 - lr: 1.0000e-05\n",
      "Epoch 11/30\n",
      "24/24 [==============================] - 412s 17s/step - loss: 1.4687 - accuracy: 0.4527 - val_loss: 2.6760 - val_accuracy: 0.1168 - lr: 1.0000e-05\n",
      "Epoch 12/30\n",
      "24/24 [==============================] - 409s 17s/step - loss: 1.4614 - accuracy: 0.4543 - val_loss: 2.6116 - val_accuracy: 0.1211 - lr: 1.0000e-05\n",
      "Epoch 13/30\n",
      "24/24 [==============================] - 409s 17s/step - loss: 1.4673 - accuracy: 0.4530 - val_loss: 2.5359 - val_accuracy: 0.1296 - lr: 1.0000e-05\n",
      "Epoch 14/30\n",
      "24/24 [==============================] - 404s 17s/step - loss: 1.4699 - accuracy: 0.4512 - val_loss: 2.4743 - val_accuracy: 0.1394 - lr: 1.0000e-05\n",
      "Epoch 15/30\n",
      "24/24 [==============================] - 405s 17s/step - loss: 1.4606 - accuracy: 0.4544 - val_loss: 2.3824 - val_accuracy: 0.1577 - lr: 1.0000e-05\n",
      "Epoch 16/30\n",
      "24/24 [==============================] - 405s 17s/step - loss: 1.4592 - accuracy: 0.4553 - val_loss: 2.3023 - val_accuracy: 0.1788 - lr: 1.0000e-05\n",
      "Epoch 17/30\n",
      "24/24 [==============================] - 406s 17s/step - loss: 1.4515 - accuracy: 0.4566 - val_loss: 2.2013 - val_accuracy: 0.2074 - lr: 1.0000e-05\n",
      "Epoch 18/30\n",
      "24/24 [==============================] - 406s 17s/step - loss: 1.4592 - accuracy: 0.4553 - val_loss: 2.1162 - val_accuracy: 0.2312 - lr: 1.0000e-05\n",
      "Epoch 19/30\n",
      "24/24 [==============================] - 404s 17s/step - loss: 1.4538 - accuracy: 0.4561 - val_loss: 2.0328 - val_accuracy: 0.2546 - lr: 1.0000e-05\n",
      "Epoch 20/30\n",
      "24/24 [==============================] - 405s 17s/step - loss: 1.4522 - accuracy: 0.4567 - val_loss: 1.9475 - val_accuracy: 0.2815 - lr: 1.0000e-05\n",
      "Epoch 21/30\n",
      "24/24 [==============================] - 407s 17s/step - loss: 1.4476 - accuracy: 0.4578 - val_loss: 1.8757 - val_accuracy: 0.3044 - lr: 1.0000e-05\n",
      "Epoch 22/30\n",
      "24/24 [==============================] - 405s 17s/step - loss: 1.4476 - accuracy: 0.4581 - val_loss: 1.7896 - val_accuracy: 0.3327 - lr: 1.0000e-05\n",
      "Epoch 23/30\n",
      "24/24 [==============================] - 406s 17s/step - loss: 1.4439 - accuracy: 0.4592 - val_loss: 1.7407 - val_accuracy: 0.3476 - lr: 1.0000e-05\n",
      "Epoch 24/30\n",
      "24/24 [==============================] - 404s 17s/step - loss: 1.4442 - accuracy: 0.4597 - val_loss: 1.6820 - val_accuracy: 0.3677 - lr: 1.0000e-05\n",
      "Epoch 25/30\n",
      "24/24 [==============================] - 404s 17s/step - loss: 1.4429 - accuracy: 0.4589 - val_loss: 1.6304 - val_accuracy: 0.3880 - lr: 1.0000e-05\n",
      "Epoch 26/30\n",
      "24/24 [==============================] - 404s 17s/step - loss: 1.4378 - accuracy: 0.4608 - val_loss: 1.5843 - val_accuracy: 0.4051 - lr: 1.0000e-05\n",
      "Epoch 27/30\n",
      "24/24 [==============================] - 406s 17s/step - loss: 1.4394 - accuracy: 0.4607 - val_loss: 1.5497 - val_accuracy: 0.4202 - lr: 1.0000e-05\n",
      "Epoch 28/30\n",
      "24/24 [==============================] - 404s 17s/step - loss: 1.4352 - accuracy: 0.4617 - val_loss: 1.5231 - val_accuracy: 0.4344 - lr: 1.0000e-05\n",
      "Epoch 29/30\n",
      "24/24 [==============================] - 404s 17s/step - loss: 1.4347 - accuracy: 0.4611 - val_loss: 1.5050 - val_accuracy: 0.4410 - lr: 1.0000e-05\n",
      "Epoch 30/30\n",
      "24/24 [==============================] - 410s 17s/step - loss: 1.4304 - accuracy: 0.4631 - val_loss: 1.4815 - val_accuracy: 0.4504 - lr: 1.0000e-05\n"
     ]
    }
   ],
   "source": [
    "# Train the model\n",
    "\n",
    "unet_model.train_model(model, X_train_scaled , y_train  , epochs = 30, batch_size=64, validation_split=0.2)"
   ]
  },
  {
   "cell_type": "code",
   "execution_count": 8,
   "id": "68fc38bc",
   "metadata": {
    "ExecuteTime": {
     "end_time": "2023-05-24T05:10:21.169672Z",
     "start_time": "2023-05-24T05:10:21.142767Z"
    }
   },
   "outputs": [
    {
     "ename": "NameError",
     "evalue": "name 'unet_model' is not defined",
     "output_type": "error",
     "traceback": [
      "\u001b[0;31m---------------------------------------------------------------------------\u001b[0m",
      "\u001b[0;31mNameError\u001b[0m                                 Traceback (most recent call last)",
      "Cell \u001b[0;32mIn[8], line 3\u001b[0m\n\u001b[1;32m      1\u001b[0m \u001b[38;5;66;03m# Evaluate the model\u001b[39;00m\n\u001b[0;32m----> 3\u001b[0m \u001b[43munet_model\u001b[49m\u001b[38;5;241m.\u001b[39mevaluate_model(model, X_test_scaled, y_test)\n",
      "\u001b[0;31mNameError\u001b[0m: name 'unet_model' is not defined"
     ]
    }
   ],
   "source": [
    "# Evaluate the model\n",
    "\n",
    "unet_model.evaluate_model(model, X_test_scaled, y_test)"
   ]
  },
  {
   "cell_type": "code",
   "execution_count": 26,
   "id": "82d88197",
   "metadata": {
    "ExecuteTime": {
     "end_time": "2023-05-23T12:51:10.505586Z",
     "start_time": "2023-05-23T12:51:10.476566Z"
    }
   },
   "outputs": [
    {
     "data": {
      "text/plain": [
       "[]"
      ]
     },
     "execution_count": 26,
     "metadata": {},
     "output_type": "execute_result"
    }
   ],
   "source": [
    "tf.config.list_physical_devices('GPU')"
   ]
  },
  {
   "cell_type": "code",
   "execution_count": null,
   "id": "6116fd9c",
   "metadata": {},
   "outputs": [],
   "source": [
    "\n",
    "unet_model.predict()"
   ]
  },
  {
   "cell_type": "code",
   "execution_count": 2,
   "id": "3108f13a",
   "metadata": {
    "ExecuteTime": {
     "end_time": "2023-05-24T05:05:07.197488Z",
     "start_time": "2023-05-24T05:05:03.619378Z"
    }
   },
   "outputs": [
    {
     "name": "stderr",
     "output_type": "stream",
     "text": [
      "2023-05-24 09:05:04.611952: I tensorflow/tsl/cuda/cudart_stub.cc:28] Could not find cuda drivers on your machine, GPU will not be used.\n",
      "2023-05-24 09:05:04.880362: I tensorflow/tsl/cuda/cudart_stub.cc:28] Could not find cuda drivers on your machine, GPU will not be used.\n",
      "2023-05-24 09:05:04.881438: I tensorflow/core/platform/cpu_feature_guard.cc:182] This TensorFlow binary is optimized to use available CPU instructions in performance-critical operations.\n",
      "To enable the following instructions: AVX2 FMA, in other operations, rebuild TensorFlow with the appropriate compiler flags.\n",
      "2023-05-24 09:05:05.737669: W tensorflow/compiler/tf2tensorrt/utils/py_utils.cc:38] TF-TRT Warning: Could not find TensorRT\n"
     ]
    }
   ],
   "source": [
    "import os\n",
    "import PIL\n",
    "import numpy as np\n",
    "import pandas as pd\n",
    "from PIL import Image\n",
    "import tensorflow as tf\n",
    "from PIL import ImageOps\n",
    "import matplotlib.pyplot as plt\n",
    "from tensorflow.keras.models import Model\n",
    "from tensorflow.keras.utils import to_categorical\n",
    "from tensorflow.keras.layers import Input, Conv2D, MaxPooling2D, UpSampling2D, Concatenate"
   ]
  },
  {
   "cell_type": "code",
   "execution_count": 4,
   "id": "d0de217f",
   "metadata": {
    "ExecuteTime": {
     "end_time": "2023-05-24T05:05:37.897024Z",
     "start_time": "2023-05-24T05:05:37.798710Z"
    }
   },
   "outputs": [
    {
     "data": {
      "image/png": "[encoded data removed]",
      "text/plain": [
       "<Figure size 300x300 with 1 Axes>"
      ]
     },
     "metadata": {},
     "output_type": "display_data"
    },
    {
     "data": {
      "text/plain": [
       "(1000, 1000)"
      ]
     },
     "execution_count": 4,
     "metadata": {},
     "output_type": "execute_result"
    }
   ],
   "source": [
    "file_path = '../../raw_data/OpenEarthMap_wo_xBD/aachen/labels/aachen_1.tif'\n",
    "fig = plt.figure(figsize=(3, 3))\n",
    "y_original = Image.open(file_path)\n",
    "plt.axis('off')\n",
    "plt.imshow(y_original)\n",
    "plt.show()\n",
    "y_original = np.array(y_original)\n",
    "y_original.shape"
   ]
  },
  {
   "cell_type": "code",
   "execution_count": 6,
   "id": "3e4963ed",
   "metadata": {
    "ExecuteTime": {
     "end_time": "2023-05-24T05:06:46.896516Z",
     "start_time": "2023-05-24T05:06:46.891503Z"
    }
   },
   "outputs": [],
   "source": [
    "lb = Image.open(label_path)\n",
    "# Generate array for each label\n",
    "# Resize each label using image_resize function\n",
    "resized_label = image_resize(256,256,lb)\n",
    "# Generate array for each image\n",
    "numpy_array_label = np.array(resized_label)\n",
    "# Encode labels\n",
    "encoded_label = to_categorical(numpy_array_label, num_classes=9)\n",
    "# Add resized and encoded array to list\n",
    "label_list_array.append(encoded_label)"
   ]
  },
  {
   "cell_type": "code",
   "execution_count": 7,
   "id": "24af65a6",
   "metadata": {
    "ExecuteTime": {
     "end_time": "2023-05-24T05:06:48.980733Z",
     "start_time": "2023-05-24T05:06:48.952112Z"
    }
   },
   "outputs": [
    {
     "ename": "AttributeError",
     "evalue": "'str' object has no attribute 'resize'",
     "output_type": "error",
     "traceback": [
      "\u001b[0;31m---------------------------------------------------------------------------\u001b[0m",
      "\u001b[0;31mAttributeError\u001b[0m                            Traceback (most recent call last)",
      "Cell \u001b[0;32mIn[7], line 1\u001b[0m\n\u001b[0;32m----> 1\u001b[0m \u001b[43mimage_resize\u001b[49m\u001b[43m(\u001b[49m\u001b[38;5;241;43m250\u001b[39;49m\u001b[43m,\u001b[49m\u001b[43m \u001b[49m\u001b[38;5;241;43m250\u001b[39;49m\u001b[43m,\u001b[49m\u001b[43m \u001b[49m\u001b[38;5;124;43m'\u001b[39;49m\u001b[38;5;124;43m../../raw_data/OpenEarthMap_wo_xBD/aachen/labels/aachen_1.tif\u001b[39;49m\u001b[38;5;124;43m'\u001b[39;49m\u001b[43m)\u001b[49m\n",
      "Cell \u001b[0;32mIn[6], line 4\u001b[0m, in \u001b[0;36mimage_resize\u001b[0;34m(width, height, image)\u001b[0m\n\u001b[1;32m      1\u001b[0m \u001b[38;5;28;01mdef\u001b[39;00m \u001b[38;5;21mimage_resize\u001b[39m(width, height, image):\n\u001b[1;32m      2\u001b[0m     \u001b[38;5;66;03m# os.makedirs(out_dir, exist_ok=True)\u001b[39;00m\n\u001b[1;32m      3\u001b[0m     \u001b[38;5;66;03m# new_image = Image.open(image_file)\u001b[39;00m\n\u001b[0;32m----> 4\u001b[0m     resized_image \u001b[38;5;241m=\u001b[39m \u001b[43mimage\u001b[49m\u001b[38;5;241;43m.\u001b[39;49m\u001b[43mresize\u001b[49m((width, height),resample\u001b[38;5;241m=\u001b[39mImage\u001b[38;5;241m.\u001b[39mResampling\u001b[38;5;241m.\u001b[39mNEAREST)\n\u001b[1;32m      5\u001b[0m     \u001b[38;5;28;01mreturn\u001b[39;00m resized_image\n",
      "\u001b[0;31mAttributeError\u001b[0m: 'str' object has no attribute 'resize'"
     ]
    }
   ],
   "source": [
    "image_resize(250, 250, '../../raw_data/OpenEarthMap_wo_xBD/aachen/labels/aachen_1.tif')"
   ]
  },
  {
   "cell_type": "code",
   "execution_count": null,
   "id": "6e26d920",
   "metadata": {},
   "outputs": [],
   "source": []
  },
  {
   "cell_type": "code",
   "execution_count": null,
   "id": "f8f4ed15",
   "metadata": {},
   "outputs": [],
   "source": []
  },
  {
   "cell_type": "code",
   "execution_count": null,
   "id": "067fa670",
   "metadata": {},
   "outputs": [],
   "source": []
  }
 ],
 "metadata": {
  "kernelspec": {
   "display_name": "Python 3 (ipykernel)",
   "language": "python",
   "name": "python3"
  },
  "language_info": {
   "codemirror_mode": {
    "name": "ipython",
    "version": 3
   },
   "file_extension": ".py",
   "mimetype": "text/x-python",
   "name": "python",
   "nbconvert_exporter": "python",
   "pygments_lexer": "ipython3",
   "version": "3.8.12"
  },
  "toc": {
   "base_numbering": 1,
   "nav_menu": {},
   "number_sections": true,
   "sideBar": true,
   "skip_h1_title": false,
   "title_cell": "Table of Contents",
   "title_sidebar": "Contents",
   "toc_cell": false,
   "toc_position": {},
   "toc_section_display": true,
   "toc_window_display": false
  }
 },
 "nbformat": 4,
 "nbformat_minor": 5
}
