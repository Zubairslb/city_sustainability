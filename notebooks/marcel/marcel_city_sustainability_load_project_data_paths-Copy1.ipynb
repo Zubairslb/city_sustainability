{
 "cells": [
  {
   "cell_type": "code",
   "execution_count": 1,
   "id": "fd1b9914",
   "metadata": {
    "ExecuteTime": {
     "end_time": "2023-05-30T07:51:31.075262Z",
     "start_time": "2023-05-30T07:51:26.864807Z"
    },
    "collapsed": true
   },
   "outputs": [
    {
     "name": "stderr",
     "output_type": "stream",
     "text": [
      "2023-05-30 11:51:28.234944: I tensorflow/tsl/cuda/cudart_stub.cc:28] Could not find cuda drivers on your machine, GPU will not be used.\n",
      "2023-05-30 11:51:28.525496: I tensorflow/tsl/cuda/cudart_stub.cc:28] Could not find cuda drivers on your machine, GPU will not be used.\n",
      "2023-05-30 11:51:28.526736: I tensorflow/core/platform/cpu_feature_guard.cc:182] This TensorFlow binary is optimized to use available CPU instructions in performance-critical operations.\n",
      "To enable the following instructions: AVX2 FMA, in other operations, rebuild TensorFlow with the appropriate compiler flags.\n",
      "2023-05-30 11:51:29.475911: W tensorflow/compiler/tf2tensorrt/utils/py_utils.cc:38] TF-TRT Warning: Could not find TensorRT\n"
     ]
    }
   ],
   "source": [
    "import numpy as np\n",
    "import pandas as pd\n",
    "import matplotlib.pyplot as plt\n",
    "from keras.models import load_model\n",
    "import matplotlib.patches as mpatches\n",
    "from city_sustainability.models import unet_model\n",
    "from city_sustainability.quality import life_quality\n",
    "from city_sustainability.preprocessing import image_resize\n",
    "from city_sustainability.loading_data import loading_paths\n",
    "from matplotlib.colors import ListedColormap, BoundaryNorm\n",
    "from city_sustainability.models.unet_model import compute_iou\n",
    "from city_sustainability.loading_data import image_and_label_arrays"
   ]
  },
  {
   "cell_type": "code",
   "execution_count": 42,
   "id": "fe29f20b",
   "metadata": {
    "ExecuteTime": {
     "end_time": "2023-05-30T10:07:52.035306Z",
     "start_time": "2023-05-30T10:07:52.029355Z"
    }
   },
   "outputs": [],
   "source": [
    "def split_data (data_path, split_files_directory):\n",
    "    \n",
    "    # Retrieve image_paths, label_paths\n",
    "    X_paths, y_paths = loading_paths(data_path)\n",
    "    \n",
    "    # Load the paths from the text files\n",
    "    with open(split_files_path + 'train.txt', 'r') as file:\n",
    "        train_list = [line.strip() for line in file.readlines()]\n",
    "    \n",
    "    with open(split_files_path + 'val.txt', 'r') as file:\n",
    "        val_list = [line.strip() for line in file.readlines()]\n",
    "\n",
    "    with open(split_files_path + 'test.txt', 'r') as file:\n",
    "        test_list = [line.strip() for line in file.readlines()]    \n",
    "    \n",
    "    (X_train_paths,  \n",
    "     y_train_paths,\n",
    "     X_val_paths,\n",
    "     y_val_paths,\n",
    "     X_test_paths,\n",
    "     y_test_paths) = ([], [], [], [], [], [])\n",
    "    \n",
    "    for i in range(len(X_paths)):\n",
    "        X_path = X_paths[i]\n",
    "        y_path = y_paths[i]\n",
    "        file_name = X_path.split('/')[-1] \n",
    "        if file_name in train_list:\n",
    "            X_train_paths.append(X_path)\n",
    "            y_train_paths.append(y_path)\n",
    "        if file_name in val_list:\n",
    "            X_val_paths.append(X_path)\n",
    "            y_val_paths.append(y_path)\n",
    "        if file_name in test_list:\n",
    "            X_test_paths.append(X_path)\n",
    "            y_test_paths.append(y_path)\n",
    "    return (X_train_paths,  \n",
    "            y_train_paths,\n",
    "            X_val_paths,\n",
    "            y_val_paths,\n",
    "            X_test_paths,\n",
    "            y_test_paths)"
   ]
  },
  {
   "cell_type": "code",
   "execution_count": 43,
   "id": "7f780d52",
   "metadata": {
    "ExecuteTime": {
     "end_time": "2023-05-30T10:07:58.667355Z",
     "start_time": "2023-05-30T10:07:58.578823Z"
    }
   },
   "outputs": [],
   "source": [
    "# Paths for input data and directory containing the train.txt, test.txt, and val.txt files\n",
    "data_path = '../../raw_data/OpenEarthMap_wo_xBD'\n",
    "split_files_path = '../../raw_data/OpenEarthMap_wo_xBD/'\n",
    "\n",
    "(X_train_paths, \n",
    " y_train_paths, \n",
    " X_val_paths, \n",
    " y_val_paths, \n",
    " X_test_paths, \n",
    " y_test_paths) = split_data (data_path, split_files_directory)"
   ]
  },
  {
   "cell_type": "code",
   "execution_count": 44,
   "id": "77524bca",
   "metadata": {
    "ExecuteTime": {
     "end_time": "2023-05-30T10:08:01.241984Z",
     "start_time": "2023-05-30T10:08:01.234572Z"
    }
   },
   "outputs": [
    {
     "name": "stdout",
     "output_type": "stream",
     "text": [
      "X_paths = 2687\n",
      "y_paths = 2687\n",
      "X_train_paths = 2303\n",
      "y_train_paths = 2303\n",
      "X_test_paths = 0\n",
      "y_test_paths = 0\n",
      "X_val_paths = 384\n",
      "y_val_paths = 384\n"
     ]
    }
   ],
   "source": [
    "print('X_paths =', len(X_paths))\n",
    "print('y_paths =', len(y_paths))\n",
    "print('X_train_paths =', len(X_train_paths))\n",
    "print('y_train_paths =', len(y_train_paths))\n",
    "print('X_test_paths =', len(X_test_paths))\n",
    "print('y_test_paths =', len(y_test_paths))\n",
    "print('X_val_paths =', len(X_val_paths))\n",
    "print('y_val_paths =', len(y_val_paths))"
   ]
  },
  {
   "cell_type": "code",
   "execution_count": 34,
   "id": "d89f5865",
   "metadata": {
    "ExecuteTime": {
     "end_time": "2023-05-30T09:53:08.398670Z",
     "start_time": "2023-05-30T09:52:37.612711Z"
    }
   },
   "outputs": [],
   "source": [
    "# Import all image array as X and label array as y\n",
    "X_train, y_train = image_and_label_arrays(X_train_paths, y_train_paths, sampling_ratio=1.0)\n",
    "X_test, y_test = image_and_label_arrays(X_test_paths, y_test_paths, sampling_ratio=1.0)\n",
    "X_val, y_val = image_and_label_arrays(X_val_paths, y_val_paths, sampling_ratio=1.0)"
   ]
  },
  {
   "cell_type": "code",
   "execution_count": 35,
   "id": "5a1bc1c2",
   "metadata": {
    "ExecuteTime": {
     "end_time": "2023-05-30T09:53:17.506373Z",
     "start_time": "2023-05-30T09:53:17.502133Z"
    }
   },
   "outputs": [
    {
     "name": "stdout",
     "output_type": "stream",
     "text": [
      "X_train = 2303\n",
      "y_train = 2303\n",
      "X_test= 0\n",
      "y_test = 0\n",
      "X_val = 384\n",
      "y_val = 384\n"
     ]
    }
   ],
   "source": [
    "print('X_train =', len(X_train_paths))\n",
    "print('y_train =', len(y_train_paths))\n",
    "print('X_test=', len(X_test_paths))\n",
    "print('y_test =', len(y_test_paths))\n",
    "print('X_val =', len(X_val_paths))\n",
    "print('y_val =', len(y_val_paths))"
   ]
  },
  {
   "cell_type": "code",
   "execution_count": 36,
   "id": "2570e5b8",
   "metadata": {
    "ExecuteTime": {
     "end_time": "2023-05-30T09:53:22.338152Z",
     "start_time": "2023-05-30T09:53:21.443946Z"
    }
   },
   "outputs": [],
   "source": [
    "# Scale X and y\n",
    "X_train_scaled = X_train / 255\n",
    "X_test_scaled = X_test / 255\n",
    "X_val_scaled = X_val / 255"
   ]
  },
  {
   "cell_type": "code",
   "execution_count": 37,
   "id": "8ab2461a",
   "metadata": {
    "ExecuteTime": {
     "end_time": "2023-05-30T09:53:32.023459Z",
     "start_time": "2023-05-30T09:53:32.018804Z"
    }
   },
   "outputs": [
    {
     "name": "stdout",
     "output_type": "stream",
     "text": [
      "(2303, 256, 256, 3)\n",
      "(0,)\n",
      "(384, 256, 256, 3)\n"
     ]
    }
   ],
   "source": [
    "print(X_train_scaled.shape)\n",
    "print(X_test_scaled.shape)\n",
    "print(X_val_scaled.shape)"
   ]
  },
  {
   "cell_type": "code",
   "execution_count": 38,
   "id": "a2626c91",
   "metadata": {
    "ExecuteTime": {
     "end_time": "2023-05-30T09:53:39.988198Z",
     "start_time": "2023-05-30T09:53:39.189910Z"
    }
   },
   "outputs": [
    {
     "name": "stderr",
     "output_type": "stream",
     "text": [
      "2023-05-30 13:53:39.451981: I tensorflow/compiler/xla/stream_executor/cuda/cuda_gpu_executor.cc:982] could not open file to read NUMA node: /sys/bus/pci/devices/0000:01:00.0/numa_node\n",
      "Your kernel may have been built without NUMA support.\n",
      "2023-05-30 13:53:39.453640: W tensorflow/core/common_runtime/gpu/gpu_device.cc:1956] Cannot dlopen some GPU libraries. Please make sure the missing libraries mentioned above are installed properly if you would like to use GPU. Follow the guide at https://www.tensorflow.org/install/gpu for how to download and setup the required libraries for your platform.\n",
      "Skipping registering GPU devices...\n"
     ]
    }
   ],
   "source": [
    "path = '../../model_training/mallik/model_2703.h5'\n",
    "model = load_model(path, custom_objects={'compute_iou': compute_iou})"
   ]
  },
  {
   "cell_type": "code",
   "execution_count": 39,
   "id": "fca00ec6",
   "metadata": {
    "ExecuteTime": {
     "end_time": "2023-05-30T09:55:03.127161Z",
     "start_time": "2023-05-30T09:54:04.874509Z"
    }
   },
   "outputs": [
    {
     "name": "stdout",
     "output_type": "stream",
     "text": [
      "12/12 [==============================] - 58s 5s/step\n"
     ]
    }
   ],
   "source": [
    "y_pred = model.predict(X_val)"
   ]
  },
  {
   "cell_type": "code",
   "execution_count": null,
   "id": "a5f4a177",
   "metadata": {
    "ExecuteTime": {
     "end_time": "2023-05-29T16:38:57.223746Z",
     "start_time": "2023-05-29T16:38:57.219413Z"
    }
   },
   "outputs": [],
   "source": [
    "y_pred.shape"
   ]
  },
  {
   "cell_type": "code",
   "execution_count": null,
   "id": "dcf8af2e",
   "metadata": {
    "ExecuteTime": {
     "end_time": "2023-05-29T16:39:26.408093Z",
     "start_time": "2023-05-29T16:39:26.345789Z"
    }
   },
   "outputs": [],
   "source": [
    "# Create a DataFrame from your color dictionary\n",
    "df = pd.DataFrame(list(class_colors.items()), columns=['Class', 'Color'])\n",
    "def color_cells(val):\n",
    "    color = val \n",
    "    return 'background-color: %s' % color\n",
    "class_color = df.style.applymap(color_cells, subset=['Color'])\n",
    "class_color"
   ]
  },
  {
   "cell_type": "code",
   "execution_count": null,
   "id": "a4ce508f",
   "metadata": {
    "ExecuteTime": {
     "end_time": "2023-05-29T16:39:21.934683Z",
     "start_time": "2023-05-29T16:39:14.304745Z"
    },
    "scrolled": false
   },
   "outputs": [],
   "source": [
    "# Create Numpy\n",
    "y_pred_np = np.argmax(y_pred, axis=-1)\n",
    "y_test_np = np.argmax(y_test, axis=-1)\n",
    "\n",
    "# Defining classes colors\n",
    "class_colors = {\n",
    "    \"Other\": '#FFFF00',\n",
    "    \"Bareland\": '#800000',\n",
    "    \"Rangeland\": '#00FF24',\n",
    "    \"Developed space\": '#949494',\n",
    "    \"Road\": '#FFFFFF',\n",
    "    \"Tree\": '#226126',\n",
    "    \"Water\": '#0045FF',\n",
    "    \"Agriculture land\": '#4BB549',\n",
    "    \"Building\": '#DE1F07'}\n",
    "\n",
    "labels = list(range(len(class_colors))) \n",
    "colors = list(class_colors.values())     \n",
    "cmap = ListedColormap(colors)\n",
    "norm = BoundaryNorm(labels, cmap.N)\n",
    "\n",
    "# Create the figure and subplots\n",
    "num_images = 50 \n",
    "fig, axs = plt.subplots(num_images, 3, figsize=(12, 4*num_images))\n",
    "\n",
    "# Iterate through the image sets\n",
    "for i in range(num_images):\n",
    "    index = i * 10  \n",
    "    if index >= len(X_test):\n",
    "        break\n",
    "    # Display the original image\n",
    "    axs[i, 0].imshow(X_test[index])\n",
    "    axs[i, 0].set_title('Original Image')\n",
    "    axs[i, 0].axis('off')\n",
    "    # Display the original label\n",
    "    axs[i, 1].imshow(y_test_np[index], cmap=cmap, vmin=0, vmax=8)\n",
    "    axs[i, 1].set_title('Original Label')\n",
    "    axs[i, 1].axis('off')\n",
    "    # Display the predicted label\n",
    "    axs[i, 2].imshow(y_pred_np[index], cmap=cmap, vmin=0, vmax=8)\n",
    "    axs[i, 2].set_title('Predicted Label')\n",
    "    axs[i, 2].axis('off')\n",
    "\n",
    "# Display the figure and adjust the spacing between subplots\n",
    "plt.subplots_adjust(wspace=0.2, hspace=0.2)\n",
    "plt.show()"
   ]
  },
  {
   "cell_type": "code",
   "execution_count": null,
   "id": "5fd06779",
   "metadata": {},
   "outputs": [],
   "source": []
  }
 ],
 "metadata": {
  "kernelspec": {
   "display_name": "Python 3 (ipykernel)",
   "language": "python",
   "name": "python3"
  },
  "language_info": {
   "codemirror_mode": {
    "name": "ipython",
    "version": 3
   },
   "file_extension": ".py",
   "mimetype": "text/x-python",
   "name": "python",
   "nbconvert_exporter": "python",
   "pygments_lexer": "ipython3",
   "version": "3.8.12"
  },
  "toc": {
   "base_numbering": 1,
   "nav_menu": {},
   "number_sections": true,
   "sideBar": true,
   "skip_h1_title": false,
   "title_cell": "Table of Contents",
   "title_sidebar": "Contents",
   "toc_cell": false,
   "toc_position": {},
   "toc_section_display": true,
   "toc_window_display": false
  }
 },
 "nbformat": 4,
 "nbformat_minor": 5
}
