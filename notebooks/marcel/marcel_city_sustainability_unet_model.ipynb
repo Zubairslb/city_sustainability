{
 "cells": [
  {
   "cell_type": "code",
   "execution_count": 6,
   "id": "487df99b",
   "metadata": {
    "ExecuteTime": {
     "end_time": "2023-05-26T09:54:29.468806Z",
     "start_time": "2023-05-26T09:54:29.463580Z"
    }
   },
   "outputs": [],
   "source": [
    "from tensorflow.keras.utils import plot_model"
   ]
  },
  {
   "cell_type": "code",
   "execution_count": 8,
   "id": "e64c5ca7",
   "metadata": {
    "ExecuteTime": {
     "end_time": "2023-05-26T09:54:36.861430Z",
     "start_time": "2023-05-26T09:54:36.826290Z"
    }
   },
   "outputs": [
    {
     "name": "stdout",
     "output_type": "stream",
     "text": [
      "You must install pydot (`pip install pydot`) and install graphviz (see instructions at https://graphviz.gitlab.io/download/) for plot_model to work.\n"
     ]
    }
   ],
   "source": [
    "plot_model(model_full)"
   ]
  },
  {
   "cell_type": "code",
   "execution_count": 2,
   "id": "378b32ab",
   "metadata": {
    "ExecuteTime": {
     "end_time": "2023-05-28T12:16:44.225254Z",
     "start_time": "2023-05-28T12:16:42.617123Z"
    }
   },
   "outputs": [
    {
     "name": "stderr",
     "output_type": "stream",
     "text": [
      "2023-05-28 16:16:42.719041: I tensorflow/tsl/cuda/cudart_stub.cc:28] Could not find cuda drivers on your machine, GPU will not be used.\n",
      "2023-05-28 16:16:42.741898: I tensorflow/tsl/cuda/cudart_stub.cc:28] Could not find cuda drivers on your machine, GPU will not be used.\n",
      "2023-05-28 16:16:42.742551: I tensorflow/core/platform/cpu_feature_guard.cc:182] This TensorFlow binary is optimized to use available CPU instructions in performance-critical operations.\n",
      "To enable the following instructions: AVX2 FMA, in other operations, rebuild TensorFlow with the appropriate compiler flags.\n",
      "2023-05-28 16:16:43.283662: W tensorflow/compiler/tf2tensorrt/utils/py_utils.cc:38] TF-TRT Warning: Could not find TensorRT\n"
     ]
    }
   ],
   "source": [
    "# Imports\n",
    "import tensorflow as tf\n",
    "import matplotlib.pyplot as plt\n",
    "from tensorflow import keras\n",
    "from tensorflow.keras import layers\n",
    "from city_sustainability.quality import life_quality\n",
    "from city_sustainability.models import unet_model\n",
    "from tensorflow.keras.callbacks import EarlyStopping\n",
    "from city_sustainability.preprocessing import image_resize\n",
    "from city_sustainability.loading_data_448x448 import image_and_label_arrays_448\n",
    "from city_sustainability.loading_data_448x448 import loading_paths_448"
   ]
  },
  {
   "cell_type": "code",
   "execution_count": 3,
   "id": "4d28da3b",
   "metadata": {
    "ExecuteTime": {
     "end_time": "2023-05-26T09:53:57.420176Z",
     "start_time": "2023-05-26T09:53:57.391533Z"
    }
   },
   "outputs": [],
   "source": [
    "import tensorflow as tf\n",
    "from tensorflow.keras.models import Model\n",
    "from tensorflow.keras.optimizers import Adam\n",
    "from tensorflow.keras.applications.vgg16 import VGG16\n",
    "from tensorflow.keras.callbacks import ReduceLROnPlateau, EarlyStopping\n",
    "from tensorflow.keras.layers import Conv2D, BatchNormalization, Dropout, MaxPooling2D, UpSampling2D, Concatenate, Input\n",
    "\n",
    "\n",
    "def encoder(inputs):\n",
    "    conv1 = Conv2D(64, (3, 3), activation='relu', padding='same')(inputs)\n",
    "    conv1 = BatchNormalization()(conv1)\n",
    "    conv1 = Dropout(0.1)(conv1)\n",
    "    pool1 = MaxPooling2D(pool_size=(2, 2))(conv1)\n",
    "\n",
    "    conv2 = Conv2D(128, (3, 3), activation='relu', padding='same')(pool1)\n",
    "    conv2 = BatchNormalization()(conv2)\n",
    "    conv2 = Dropout(0.1)(conv2)\n",
    "    pool2 = MaxPooling2D(pool_size=(2, 2))(conv2)\n",
    "\n",
    "    return conv1, conv2, pool2\n",
    "\n",
    "\n",
    "def decoder(conv1, conv2, encoded):\n",
    "    up1 = UpSampling2D(size=(2, 2))(encoded)\n",
    "    merge1 = Concatenate(axis=3)([conv2, up1])\n",
    "    conv3 = Conv2D(128, (3, 3), activation='relu', padding='same')(merge1)\n",
    "    conv3 = BatchNormalization()(conv3)\n",
    "    conv3 = Dropout(0.1)(conv3)\n",
    "\n",
    "    up2 = UpSampling2D(size=(2, 2))(conv3)\n",
    "    merge2 = Concatenate(axis=3)([conv1, up2])\n",
    "    conv4 = Conv2D(64, (3, 3), activation='relu', padding='same')(merge2)\n",
    "    conv4 = BatchNormalization()(conv4)\n",
    "    conv4 = Dropout(0.1)(conv4)\n",
    "\n",
    "    return conv4\n",
    "\n",
    "\n",
    "###########################\n",
    "\n",
    "\n",
    "def decoder_full(conv1, conv2, conv3, conv4, conv5, encoded):\n",
    "    \n",
    "    up5 = UpSampling2D(size=(2, 2))(encoded)\n",
    "    merge5 = Concatenate(axis=3)([conv5, up5])\n",
    "    l5 = Conv2D(512, (3, 3), activation='relu', padding='same')(merge5)\n",
    "    l5 = BatchNormalization()(l5)\n",
    "    l5 = Dropout(0.1)(l5) \n",
    "    \n",
    "    up4 = UpSampling2D(size=(2, 2))(l5)\n",
    "    merge4 = Concatenate(axis=3)([conv4, up4])\n",
    "    l4 = Conv2D(512, (3, 3), activation='relu', padding='same')(merge4)\n",
    "    l4 = BatchNormalization()(l4)\n",
    "    l4 = Dropout(0.1)(l4) \n",
    "    \n",
    "    up3 = UpSampling2D(size=(2, 2))(l4)\n",
    "    merge3 = Concatenate(axis=3)([conv3, up3])\n",
    "    l3 = Conv2D(256, (3, 3), activation='relu', padding='same')(merge3)\n",
    "    l3 = BatchNormalization()(l3)\n",
    "    l3 = Dropout(0.1)(l3)   \n",
    "    \n",
    "    up2 = UpSampling2D(size=(2, 2))(l3)\n",
    "    merge2 = Concatenate(axis=3)([conv2, up2])\n",
    "    l2 = Conv2D(128, (3, 3), activation='relu', padding='same')(merge2)\n",
    "    l2 = BatchNormalization()(l2)\n",
    "    l2 = Dropout(0.1)(l2)\n",
    "\n",
    "    up1 = UpSampling2D(size=(2, 2))(l2)\n",
    "    merge1 = Concatenate(axis=3)([conv1, up1])\n",
    "    l1 = Conv2D(64, (3, 3), activation='relu', padding='same')(merge1)\n",
    "    l1 = BatchNormalization()(l1)\n",
    "    l1 = Dropout(0.1)(l1)\n",
    "\n",
    "    return l1\n",
    "\n",
    "\n",
    "#############################\n",
    "\n",
    "\n",
    "def build_model(input_shape=(28, 28, 1), num_classes=12):\n",
    "    inputs = Input(input_shape)\n",
    "    conv1, conv2, encoded = encoder(inputs)\n",
    "    decoded = decoder(conv1, conv2, encoded)\n",
    "    outputs = Conv2D(num_classes, (1, 1), activation='softmax')(decoded)\n",
    "    return Model(inputs=inputs, outputs=outputs)\n",
    "\n",
    "\n",
    "def build_vgg16_model(input_shape=(28, 28, 1), num_classes=12 ):\n",
    "    model_vgg = VGG16(weights=\"imagenet\", include_top=False, input_shape=input_shape)\n",
    "    for layer in model_vgg.layers:\n",
    "        layer.trainable = False\n",
    "    inputs = model_vgg.layers[0].output\n",
    "    conv1 = model_vgg.get_layer('block1_conv2').output\n",
    "    conv2 = model_vgg.get_layer('block2_conv2').output\n",
    "    encoded = model_vgg.get_layer('block3_conv3').output\n",
    "    decoded = decoder(conv1, conv2, encoded)\n",
    "    outputs = Conv2D(num_classes, (1, 1), activation='softmax')(decoded)\n",
    "    return Model(inputs=inputs, outputs=outputs)\n",
    "\n",
    "\n",
    "#############################\n",
    "\n",
    "def build_vgg16_model_full(input_shape=(28, 28, 1), num_classes=12):\n",
    "    model_vgg = VGG16(weights=\"imagenet\", include_top=False, input_shape=input_shape)\n",
    "    for layer in model_vgg.layers:\n",
    "        layer.trainable = False\n",
    "    inputs = model_vgg.layers[0].output\n",
    "    conv1 = model_vgg.get_layer('block1_conv2').output\n",
    "    conv2 = model_vgg.get_layer('block2_conv2').output\n",
    "    conv3 = model_vgg.get_layer('block3_conv3').output\n",
    "    conv4 = model_vgg.get_layer('block4_conv3').output\n",
    "    conv5 = model_vgg.get_layer('block5_conv3').output\n",
    "    encoded = model_vgg.get_layer('block5_pool').output       \n",
    "    decoded = decoder_full(conv1, conv2, conv3, conv4, conv5, encoded)   \n",
    "    outputs = Conv2D(num_classes, (1, 1), activation='softmax')(decoded)    \n",
    "    return Model(inputs=inputs, outputs=outputs)\n",
    "\n",
    "\n",
    "#############################\n",
    "\n",
    "\n",
    "def compile_model(model, optimizer='adam'):\n",
    "    model.compile(optimizer=optimizer, loss='categorical_crossentropy', metrics=['accuracy'])\n",
    "\n",
    "\n",
    "def compute_iou(y_true, y_pred):\n",
    "    intersection = tf.reduce_sum(y_true * y_pred, axis=[1, 2, 3])\n",
    "    union = tf.reduce_sum(y_true + y_pred, axis=[1, 2, 3]) - intersection\n",
    "    iou = tf.reduce_mean((intersection + 1e-7) / (union + 1e-7))\n",
    "    return iou\n",
    "\n",
    "\n",
    "def train_model(model, x, y, epochs=1, batch_size=32, validation_split=0.1):\n",
    "    model.compile(optimizer=Adam(learning_rate=0.0001), loss='categorical_crossentropy', metrics=['accuracy', compute_iou])\n",
    "    lr_reducer = ReduceLROnPlateau(monitor='val_loss', factor=0.1, patience=5, min_lr=0.00001, verbose=1)\n",
    "    early_stopper = EarlyStopping(monitor='val_loss', patience=10, verbose=1)\n",
    "    history = model.fit(x, y, epochs=epochs, batch_size=batch_size, validation_split=validation_split, callbacks=[lr_reducer, early_stopper])\n",
    "    return history\n",
    "\n",
    "\n",
    "def evaluate_model(model, x, y):\n",
    "    loss, accuracy = model.evaluate(x, y)\n",
    "    \n",
    "    # Calculate IoU\n",
    "    y_pred = model.predict(x)\n",
    "    iou = compute_iou(y, y_pred)\n",
    "    \n",
    "    print(\"Evaluation results:\")\n",
    "    print(f\"Loss: {loss:.4f}\")\n",
    "    print(f\"Accuracy: {accuracy:.4f}\")\n",
    "    print(f\"IoU: {iou:.4f}\")\n",
    "\n",
    "\n",
    "def predict(model, x):\n",
    "    return model.predict(x)\n"
   ]
  },
  {
   "cell_type": "code",
   "execution_count": 10,
   "id": "eeb6b265",
   "metadata": {
    "ExecuteTime": {
     "end_time": "2023-05-28T12:19:13.194711Z",
     "start_time": "2023-05-28T12:19:13.189873Z"
    }
   },
   "outputs": [],
   "source": [
    "import numpy as np"
   ]
  },
  {
   "cell_type": "code",
   "execution_count": 14,
   "id": "a72e74ec",
   "metadata": {
    "ExecuteTime": {
     "end_time": "2023-05-28T12:22:39.485408Z",
     "start_time": "2023-05-28T12:22:39.299041Z"
    },
    "collapsed": true
   },
   "outputs": [
    {
     "data": {
      "text/plain": [
       "array([[[[  0,   0,   0],\n",
       "         [  0,   0,   0],\n",
       "         [  0,   0,   0],\n",
       "         ...,\n",
       "         [135, 143, 104],\n",
       "         [108, 115,  88],\n",
       "         [ 80,  75,  72]],\n",
       "\n",
       "        [[  0,   0,   0],\n",
       "         [  0,   0,   0],\n",
       "         [  0,   0,   0],\n",
       "         ...,\n",
       "         [117, 108,  89],\n",
       "         [ 78,  74,  69],\n",
       "         [101,  96,  85]],\n",
       "\n",
       "        [[  0,   0,   0],\n",
       "         [  0,   0,   0],\n",
       "         [  0,   0,   0],\n",
       "         ...,\n",
       "         [140, 136, 109],\n",
       "         [144, 132, 112],\n",
       "         [151, 137, 117]],\n",
       "\n",
       "        ...,\n",
       "\n",
       "        [[  0,   0,   0],\n",
       "         [  0,   0,   0],\n",
       "         [  0,   0,   0],\n",
       "         ...,\n",
       "         [154, 137, 119],\n",
       "         [ 69,  69,  71],\n",
       "         [ 26,  36,  47]],\n",
       "\n",
       "        [[  0,   0,   0],\n",
       "         [  0,   0,   0],\n",
       "         [  0,   0,   0],\n",
       "         ...,\n",
       "         [130, 120, 105],\n",
       "         [151, 137, 120],\n",
       "         [ 89,  85,  82]],\n",
       "\n",
       "        [[  0,   0,   0],\n",
       "         [  0,   0,   0],\n",
       "         [  0,   0,   0],\n",
       "         ...,\n",
       "         [152, 135, 116],\n",
       "         [162, 145, 125],\n",
       "         [139, 118, 103]]],\n",
       "\n",
       "\n",
       "       [[[ 97,  89,  75],\n",
       "         [119, 113, 105],\n",
       "         [ 46,  49,  46],\n",
       "         ...,\n",
       "         [146, 136, 104],\n",
       "         [126, 118,  91],\n",
       "         [128, 128,  94]],\n",
       "\n",
       "        [[106,  99,  75],\n",
       "         [ 86,  91,  63],\n",
       "         [ 60,  62,  54],\n",
       "         ...,\n",
       "         [125, 115,  92],\n",
       "         [121, 118,  92],\n",
       "         [132, 127,  97]],\n",
       "\n",
       "        [[134, 121,  95],\n",
       "         [119, 108,  84],\n",
       "         [ 43,  40,  37],\n",
       "         ...,\n",
       "         [117, 106,  90],\n",
       "         [112, 103,  86],\n",
       "         [110, 110,  81]],\n",
       "\n",
       "        ...,\n",
       "\n",
       "        [[183, 171, 158],\n",
       "         [178, 170, 156],\n",
       "         [184, 171, 155],\n",
       "         ...,\n",
       "         [ 70, 104,  47],\n",
       "         [ 70, 105,  49],\n",
       "         [ 62,  97,  42]],\n",
       "\n",
       "        [[184, 200, 211],\n",
       "         [179, 177, 173],\n",
       "         [183, 171, 155],\n",
       "         ...,\n",
       "         [ 81, 112,  53],\n",
       "         [ 84, 120,  57],\n",
       "         [ 76, 117,  54]],\n",
       "\n",
       "        [[176, 194, 208],\n",
       "         [177, 177, 174],\n",
       "         [187, 175, 159],\n",
       "         ...,\n",
       "         [ 71,  99,  96],\n",
       "         [ 68,  85,  99],\n",
       "         [ 62,  84,  89]]],\n",
       "\n",
       "\n",
       "       [[[113, 110,  65],\n",
       "         [ 60,  65,  39],\n",
       "         [ 29,  34,  19],\n",
       "         ...,\n",
       "         [  0,   0,   0],\n",
       "         [  0,   0,   0],\n",
       "         [  0,   0,   0]],\n",
       "\n",
       "        [[103, 104,  74],\n",
       "         [ 42,  48,  24],\n",
       "         [ 96,  97,  49],\n",
       "         ...,\n",
       "         [  0,   0,   0],\n",
       "         [  0,   0,   0],\n",
       "         [  0,   0,   0]],\n",
       "\n",
       "        [[ 93,  91,  55],\n",
       "         [118, 114,  79],\n",
       "         [ 90,  91,  47],\n",
       "         ...,\n",
       "         [  0,   0,   0],\n",
       "         [  0,   0,   0],\n",
       "         [  0,   0,   0]],\n",
       "\n",
       "        ...,\n",
       "\n",
       "        [[ 13,  15,  19],\n",
       "         [ 12,  14,  19],\n",
       "         [ 14,  16,  22],\n",
       "         ...,\n",
       "         [144, 131, 102],\n",
       "         [143, 134, 104],\n",
       "         [136, 130, 100]],\n",
       "\n",
       "        [[ 15,  19,  22],\n",
       "         [ 14,  17,  22],\n",
       "         [ 13,  17,  21],\n",
       "         ...,\n",
       "         [153, 142, 112],\n",
       "         [158, 148, 115],\n",
       "         [130, 129,  98]],\n",
       "\n",
       "        [[ 18,  24,  28],\n",
       "         [ 19,  20,  24],\n",
       "         [ 28,  29,  31],\n",
       "         ...,\n",
       "         [156, 145, 115],\n",
       "         [148, 142, 110],\n",
       "         [126, 125,  94]]],\n",
       "\n",
       "\n",
       "       ...,\n",
       "\n",
       "\n",
       "       [[[192, 215, 213],\n",
       "         [141, 150, 147],\n",
       "         [122, 126, 124],\n",
       "         ...,\n",
       "         [ 86,  94, 100],\n",
       "         [ 87,  96, 102],\n",
       "         [110, 127, 133]],\n",
       "\n",
       "        [[156, 170, 167],\n",
       "         [120, 124, 123],\n",
       "         [115, 119, 116],\n",
       "         ...,\n",
       "         [ 65,  65,  73],\n",
       "         [ 75,  79,  85],\n",
       "         [ 93, 103, 111]],\n",
       "\n",
       "        [[134, 142, 140],\n",
       "         [103, 105, 104],\n",
       "         [108, 113, 112],\n",
       "         ...,\n",
       "         [ 65,  63,  72],\n",
       "         [ 64,  63,  70],\n",
       "         [ 81,  86,  95]],\n",
       "\n",
       "        ...,\n",
       "\n",
       "        [[ 89, 115, 113],\n",
       "         [ 86, 111, 111],\n",
       "         [ 81, 104, 103],\n",
       "         ...,\n",
       "         [117, 131, 130],\n",
       "         [114, 126, 127],\n",
       "         [103, 110, 111]],\n",
       "\n",
       "        [[ 82, 106, 106],\n",
       "         [ 82, 106, 106],\n",
       "         [ 81, 103, 103],\n",
       "         ...,\n",
       "         [120, 131, 130],\n",
       "         [115, 126, 125],\n",
       "         [117, 128, 128]],\n",
       "\n",
       "        [[ 81, 104, 103],\n",
       "         [ 82, 105, 104],\n",
       "         [ 80, 102, 102],\n",
       "         ...,\n",
       "         [138, 152, 150],\n",
       "         [116, 124, 123],\n",
       "         [117, 125, 125]]],\n",
       "\n",
       "\n",
       "       [[[141, 144, 140],\n",
       "         [158, 167, 164],\n",
       "         [177, 193, 191],\n",
       "         ...,\n",
       "         [ 57,  40,  35],\n",
       "         [ 64,  52,  48],\n",
       "         [ 61,  51,  47]],\n",
       "\n",
       "        [[120, 119, 114],\n",
       "         [182, 201, 202],\n",
       "         [201, 226, 229],\n",
       "         ...,\n",
       "         [ 62,  44,  37],\n",
       "         [ 55,  35,  29],\n",
       "         [ 57,  40,  34]],\n",
       "\n",
       "        [[130, 133, 129],\n",
       "         [180, 197, 199],\n",
       "         [180, 198, 199],\n",
       "         ...,\n",
       "         [ 46,  20,  10],\n",
       "         [ 44,  18,   9],\n",
       "         [ 53,  31,  25]],\n",
       "\n",
       "        ...,\n",
       "\n",
       "        [[ 89, 109, 105],\n",
       "         [ 80,  94,  89],\n",
       "         [ 84, 100,  95],\n",
       "         ...,\n",
       "         [ 92, 113, 108],\n",
       "         [ 86, 105,  99],\n",
       "         [ 86, 105, 101]],\n",
       "\n",
       "        [[ 85, 102,  97],\n",
       "         [ 92, 112, 107],\n",
       "         [ 85, 101,  95],\n",
       "         ...,\n",
       "         [ 87, 107, 101],\n",
       "         [ 85, 104,  99],\n",
       "         [ 80,  97,  94]],\n",
       "\n",
       "        [[ 92, 113, 107],\n",
       "         [ 84, 100,  96],\n",
       "         [ 83, 100,  95],\n",
       "         ...,\n",
       "         [ 77,  95,  90],\n",
       "         [ 86, 108, 104],\n",
       "         [ 69,  84,  80]]],\n",
       "\n",
       "\n",
       "       [[[ 78,  67, 117],\n",
       "         [ 76,  64, 116],\n",
       "         [ 77,  65, 117],\n",
       "         ...,\n",
       "         [ 93,  76,  82],\n",
       "         [ 91,  74,  82],\n",
       "         [ 93,  79,  86]],\n",
       "\n",
       "        [[ 77,  65, 117],\n",
       "         [ 84,  71, 120],\n",
       "         [ 83,  70, 120],\n",
       "         ...,\n",
       "         [ 93,  76,  82],\n",
       "         [ 98,  82,  85],\n",
       "         [ 84,  68,  80]],\n",
       "\n",
       "        [[ 76,  63, 116],\n",
       "         [ 76,  63, 116],\n",
       "         [ 76,  62, 116],\n",
       "         ...,\n",
       "         [ 87,  69,  78],\n",
       "         [ 87,  70,  79],\n",
       "         [ 90,  75,  83]],\n",
       "\n",
       "        ...,\n",
       "\n",
       "        [[112,  71,  53],\n",
       "         [105,  65,  49],\n",
       "         [123,  85,  58],\n",
       "         ...,\n",
       "         [125, 135, 142],\n",
       "         [118, 126, 138],\n",
       "         [115, 122, 136]],\n",
       "\n",
       "        [[112,  69,  52],\n",
       "         [133,  93,  62],\n",
       "         [138,  99,  65],\n",
       "         ...,\n",
       "         [ 83,  88, 119],\n",
       "         [112, 119, 134],\n",
       "         [255, 255, 217]],\n",
       "\n",
       "        [[168, 124,  77],\n",
       "         [129,  85,  59],\n",
       "         [149, 106,  68],\n",
       "         ...,\n",
       "         [156, 166, 156],\n",
       "         [113, 121, 134],\n",
       "         [123, 131, 139]]]], dtype=uint8)"
      ]
     },
     "execution_count": 14,
     "metadata": {},
     "output_type": "execute_result"
    }
   ],
   "source": [
    "\n",
    "# Retrieve image_paths and label_paths\n",
    "data_path_1 = '../../raw_data/OpenEarthMap_wo_xBD'\n",
    "image_paths_448, label_paths_448 = loading_paths_448(data_path_1)\n",
    "# Import all image array as X and label array as y\n",
    "X, y = image_and_label_arrays_448(image_paths_448, label_paths_448, sampling_ratio=0.01)\n",
    "X"
   ]
  },
  {
   "cell_type": "code",
   "execution_count": null,
   "id": "605a7217",
   "metadata": {},
   "outputs": [],
   "source": []
  },
  {
   "cell_type": "code",
   "execution_count": 5,
   "id": "ee30eedd",
   "metadata": {
    "ExecuteTime": {
     "end_time": "2023-05-28T12:17:04.033771Z",
     "start_time": "2023-05-28T12:17:04.025088Z"
    }
   },
   "outputs": [
    {
     "data": {
      "text/plain": [
       "(9, 448, 448, 3)"
      ]
     },
     "execution_count": 5,
     "metadata": {},
     "output_type": "execute_result"
    }
   ],
   "source": [
    "X_test_scaled.shape"
   ]
  },
  {
   "cell_type": "code",
   "execution_count": 4,
   "id": "185014d8",
   "metadata": {
    "ExecuteTime": {
     "end_time": "2023-05-26T09:54:12.653488Z",
     "start_time": "2023-05-26T09:54:12.077362Z"
    }
   },
   "outputs": [
    {
     "name": "stderr",
     "output_type": "stream",
     "text": [
      "2023-05-26 13:54:12.328681: I tensorflow/compiler/xla/stream_executor/cuda/cuda_gpu_executor.cc:982] could not open file to read NUMA node: /sys/bus/pci/devices/0000:01:00.0/numa_node\n",
      "Your kernel may have been built without NUMA support.\n",
      "2023-05-26 13:54:12.331687: W tensorflow/core/common_runtime/gpu/gpu_device.cc:1956] Cannot dlopen some GPU libraries. Please make sure the missing libraries mentioned above are installed properly if you would like to use GPU. Follow the guide at https://www.tensorflow.org/install/gpu for how to download and setup the required libraries for your platform.\n",
      "Skipping registering GPU devices...\n"
     ]
    }
   ],
   "source": [
    "# Create the model\n",
    "model_full = build_vgg16_model_full(input_shape=(448, 448, 3), num_classes = 9)\n",
    "\n",
    "# When running from .py\n",
    "# model_full = unet_model.build_vgg16_model_full(input_shape=(400, 400, 3), num_classes = 9)"
   ]
  },
  {
   "cell_type": "code",
   "execution_count": null,
   "id": "4a25621d",
   "metadata": {
    "ExecuteTime": {
     "end_time": "2023-05-26T09:37:48.053131Z",
     "start_time": "2023-05-26T09:37:48.035254Z"
    }
   },
   "outputs": [],
   "source": [
    "# Compile the model\n",
    "\n",
    "unet_model.compile_model(model_full)"
   ]
  },
  {
   "cell_type": "code",
   "execution_count": null,
   "id": "8ad3feb8",
   "metadata": {
    "ExecuteTime": {
     "end_time": "2023-05-26T09:50:41.789867Z",
     "start_time": "2023-05-26T09:50:41.783714Z"
    }
   },
   "outputs": [],
   "source": [
    "model_full"
   ]
  },
  {
   "cell_type": "code",
   "execution_count": null,
   "id": "ea08a113",
   "metadata": {
    "ExecuteTime": {
     "end_time": "2023-05-26T09:44:36.270347Z",
     "start_time": "2023-05-26T09:44:36.177700Z"
    },
    "scrolled": true
   },
   "outputs": [],
   "source": [
    "model_full.summary()"
   ]
  },
  {
   "cell_type": "code",
   "execution_count": null,
   "id": "5249b7a2",
   "metadata": {
    "ExecuteTime": {
     "end_time": "2023-05-26T09:38:13.761484Z",
     "start_time": "2023-05-26T09:37:51.908014Z"
    },
    "scrolled": true
   },
   "outputs": [],
   "source": [
    "unet_model.train_model(model_full, X_train_scaled, y_train, epochs = 1, batch_size=18, validation_split=0.2)"
   ]
  },
  {
   "cell_type": "code",
   "execution_count": null,
   "id": "f95b5688",
   "metadata": {
    "ExecuteTime": {
     "end_time": "2023-05-26T06:49:42.154404Z",
     "start_time": "2023-05-26T06:49:41.581852Z"
    }
   },
   "outputs": [],
   "source": [
    "#Load VGG16 model\n",
    "model_vgg = VGG16(weights=\"imagenet\", include_top=False, input_shape=(256,256,3))"
   ]
  },
  {
   "cell_type": "code",
   "execution_count": null,
   "id": "6475827e",
   "metadata": {
    "ExecuteTime": {
     "end_time": "2023-05-26T06:50:18.857105Z",
     "start_time": "2023-05-26T06:50:18.816041Z"
    }
   },
   "outputs": [],
   "source": [
    "#What is inside VGG16 model\n",
    "model_vgg.summary()"
   ]
  },
  {
   "cell_type": "code",
   "execution_count": null,
   "id": "6bc0a437",
   "metadata": {},
   "outputs": [],
   "source": []
  }
 ],
 "metadata": {
  "kernelspec": {
   "display_name": "Python 3 (ipykernel)",
   "language": "python",
   "name": "python3"
  },
  "language_info": {
   "codemirror_mode": {
    "name": "ipython",
    "version": 3
   },
   "file_extension": ".py",
   "mimetype": "text/x-python",
   "name": "python",
   "nbconvert_exporter": "python",
   "pygments_lexer": "ipython3",
   "version": "3.8.12"
  },
  "toc": {
   "base_numbering": 1,
   "nav_menu": {},
   "number_sections": true,
   "sideBar": true,
   "skip_h1_title": false,
   "title_cell": "Table of Contents",
   "title_sidebar": "Contents",
   "toc_cell": false,
   "toc_position": {},
   "toc_section_display": true,
   "toc_window_display": false
  }
 },
 "nbformat": 4,
 "nbformat_minor": 5
}
