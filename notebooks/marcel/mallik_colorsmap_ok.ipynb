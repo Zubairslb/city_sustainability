{
 "cells": [
  {
   "cell_type": "code",
   "execution_count": null,
   "id": "a4ce508f",
   "metadata": {},
   "outputs": [],
   "source": [
    "import numpy as np\n",
    "import matplotlib.pyplot as plt\n",
    "import matplotlib.patches as mpatches\n",
    "y_pred_np = np.argmax(y_pred, axis=-1)\n",
    "y_test_np = np.argmax(y_test, axis=-1)\n",
    "class_colors = {\n",
    "    \"Other\": '#FFFF00',\n",
    "    \"Bareland\": '#800000',\n",
    "    \"Rangeland\": '#00FF24',\n",
    "    \"Developed space\": '#949494',\n",
    "    \"Road\": '#FFFFFF',\n",
    "    \"Tree\": '#226126',\n",
    "    \"Water\": '#0045FF',\n",
    "    \"Agriculture land\": '#4BB549',\n",
    "    \"Building\": '#DE1F07'\n",
    "}\n",
    "num_images = 5  # Specify the number of image sets to plot\n",
    "# Create the figure and subplots\n",
    "fig, axs = plt.subplots(num_images, 3, figsize=(12, 4*num_images))\n",
    "# Iterate through the image sets\n",
    "for i in range(num_images):\n",
    "    index = i * 10  # Adjust the indexing based on the desired interval\n",
    "    if index >= len(X_test):\n",
    "        break\n",
    "    # Display the original image\n",
    "    axs[i, 0].imshow(X_test[index])\n",
    "    axs[i, 0].set_title('Original Image')\n",
    "    axs[i, 0].axis('off')\n",
    "    # Display the ground truth label\n",
    "    axs[i, 1].imshow(y_test_np[index], cmap=cmap, vmin=0, vmax=8)\n",
    "    axs[i, 1].set_title('Ground Truth Label')\n",
    "    axs[i, 1].axis('off')\n",
    "    # Display the predicted label\n",
    "    axs[i, 2].imshow(y_pred_np[index], cmap=cmap, vmin=0, vmax=8)\n",
    "    axs[i, 2].set_title('Predicted Label')\n",
    "    axs[i, 2].axis('off')\n",
    "    # Add the legend outside the plot\n",
    "    if i == 0:\n",
    "        legend_elements = [mpatches.Patch(facecolor=color, edgecolor='black', label=class_label)\n",
    "                           for class_label, color in class_colors.items()]\n",
    "        axs[i, 1].legend(handles=legend_elements, loc='center left', bbox_to_anchor=(1, 0.5))\n",
    "# Adjust the spacing between subplots\n",
    "plt.subplots_adjust(wspace=0.2, hspace=0.2)\n",
    "# Display the figure\n",
    "plt.show()"
   ]
  }
 ],
 "metadata": {
  "kernelspec": {
   "display_name": "Python 3 (ipykernel)",
   "language": "python",
   "name": "python3"
  },
  "language_info": {
   "codemirror_mode": {
    "name": "ipython",
    "version": 3
   },
   "file_extension": ".py",
   "mimetype": "text/x-python",
   "name": "python",
   "nbconvert_exporter": "python",
   "pygments_lexer": "ipython3",
   "version": "3.8.12"
  },
  "toc": {
   "base_numbering": 1,
   "nav_menu": {},
   "number_sections": true,
   "sideBar": true,
   "skip_h1_title": false,
   "title_cell": "Table of Contents",
   "title_sidebar": "Contents",
   "toc_cell": false,
   "toc_position": {},
   "toc_section_display": true,
   "toc_window_display": false
  }
 },
 "nbformat": 4,
 "nbformat_minor": 5
}
