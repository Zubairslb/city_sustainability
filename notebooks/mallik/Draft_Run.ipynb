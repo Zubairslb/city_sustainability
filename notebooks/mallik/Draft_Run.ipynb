{
 "cells": [
  {
   "cell_type": "code",
   "execution_count": 1,
   "id": "15724db8",
   "metadata": {
    "ExecuteTime": {
     "end_time": "2023-05-23T11:47:15.961194Z",
     "start_time": "2023-05-23T11:47:14.606880Z"
    }
   },
   "outputs": [
    {
     "name": "stderr",
     "output_type": "stream",
     "text": [
      "2023-05-23 15:47:14.810864: I tensorflow/tsl/cuda/cudart_stub.cc:28] Could not find cuda drivers on your machine, GPU will not be used.\n",
      "2023-05-23 15:47:14.837501: I tensorflow/tsl/cuda/cudart_stub.cc:28] Could not find cuda drivers on your machine, GPU will not be used.\n",
      "2023-05-23 15:47:14.838307: I tensorflow/core/platform/cpu_feature_guard.cc:182] This TensorFlow binary is optimized to use available CPU instructions in performance-critical operations.\n",
      "To enable the following instructions: AVX2 FMA, in other operations, rebuild TensorFlow with the appropriate compiler flags.\n",
      "2023-05-23 15:47:15.340569: W tensorflow/compiler/tf2tensorrt/utils/py_utils.cc:38] TF-TRT Warning: Could not find TensorRT\n"
     ]
    }
   ],
   "source": [
    "# Imports\n",
    "\n",
    "from city_sustainability.preprocessing import image_resize\n",
    "from city_sustainability.loading_data import loading_paths, image_and_label_arrays\n",
    "from city_sustainability.models import unet_model"
   ]
  },
  {
   "cell_type": "code",
   "execution_count": 2,
   "id": "12cf9c71",
   "metadata": {
    "ExecuteTime": {
     "end_time": "2023-05-23T11:47:16.931250Z",
     "start_time": "2023-05-23T11:47:16.906204Z"
    }
   },
   "outputs": [],
   "source": [
    "# Retrieve image_paths and label_paths\n",
    "data_path_1 = 'raw_data/OpenEarthMap/OpenEarthMap_wo_xBD'\n",
    "image_paths, label_paths = loading_paths(data_path_1)"
   ]
  },
  {
   "cell_type": "code",
   "execution_count": 3,
   "id": "1a6cbe12",
   "metadata": {
    "ExecuteTime": {
     "end_time": "2023-05-23T11:47:20.753961Z",
     "start_time": "2023-05-23T11:47:20.739320Z"
    }
   },
   "outputs": [
    {
     "data": {
      "text/plain": [
       "2687"
      ]
     },
     "execution_count": 3,
     "metadata": {},
     "output_type": "execute_result"
    }
   ],
   "source": [
    "# Check length of image_paths\n",
    "len(image_paths)"
   ]
  },
  {
   "cell_type": "code",
   "execution_count": 4,
   "id": "4792dad5",
   "metadata": {
    "ExecuteTime": {
     "end_time": "2023-05-23T11:47:21.379278Z",
     "start_time": "2023-05-23T11:47:21.368090Z"
    }
   },
   "outputs": [
    {
     "data": {
      "text/plain": [
       "2687"
      ]
     },
     "execution_count": 4,
     "metadata": {},
     "output_type": "execute_result"
    }
   ],
   "source": [
    "# Check length of label_paths\n",
    "len(label_paths)"
   ]
  },
  {
   "cell_type": "code",
   "execution_count": 5,
   "id": "ba72de05",
   "metadata": {
    "ExecuteTime": {
     "end_time": "2023-05-23T11:47:25.836531Z",
     "start_time": "2023-05-23T11:47:23.434937Z"
    }
   },
   "outputs": [],
   "source": [
    "# Import all image array as X and label array as y\n",
    "\n",
    "X, y = image_and_label_arrays(image_paths, label_paths, 0.1)"
   ]
  },
  {
   "cell_type": "code",
   "execution_count": 6,
   "id": "275c29b0",
   "metadata": {
    "ExecuteTime": {
     "end_time": "2023-05-23T11:47:28.197843Z",
     "start_time": "2023-05-23T11:47:27.512517Z"
    }
   },
   "outputs": [],
   "source": [
    "# Apply holdout\n",
    "\n",
    "from sklearn.model_selection import train_test_split\n",
    "X_train, X_test, y_train, y_test = train_test_split(X, y, test_size = 0.2)"
   ]
  },
  {
   "cell_type": "code",
   "execution_count": 7,
   "id": "62420f24",
   "metadata": {
    "ExecuteTime": {
     "end_time": "2023-05-23T11:47:29.557983Z",
     "start_time": "2023-05-23T11:47:29.412689Z"
    }
   },
   "outputs": [],
   "source": [
    "# Scale X and y\n",
    "\n",
    "X_train_scaled = X_train / 255\n",
    "\n",
    "X_test_scaled = X_test / 255"
   ]
  },
  {
   "cell_type": "code",
   "execution_count": 8,
   "id": "7eb85db0",
   "metadata": {
    "ExecuteTime": {
     "end_time": "2023-05-23T11:47:30.610152Z",
     "start_time": "2023-05-23T11:47:30.598310Z"
    }
   },
   "outputs": [
    {
     "data": {
      "text/plain": [
       "(215, 256, 256, 3)"
      ]
     },
     "execution_count": 8,
     "metadata": {},
     "output_type": "execute_result"
    }
   ],
   "source": [
    "# Confirm shapes\n",
    "\n",
    "X_train.shape"
   ]
  },
  {
   "cell_type": "code",
   "execution_count": 9,
   "id": "9fdf3d63",
   "metadata": {
    "ExecuteTime": {
     "end_time": "2023-05-23T11:47:31.524722Z",
     "start_time": "2023-05-23T11:47:31.512979Z"
    }
   },
   "outputs": [
    {
     "data": {
      "text/plain": [
       "(54, 256, 256, 3)"
      ]
     },
     "execution_count": 9,
     "metadata": {},
     "output_type": "execute_result"
    }
   ],
   "source": [
    "X_test.shape"
   ]
  },
  {
   "cell_type": "code",
   "execution_count": 10,
   "id": "083eaa3a",
   "metadata": {
    "ExecuteTime": {
     "end_time": "2023-05-23T11:47:31.923748Z",
     "start_time": "2023-05-23T11:47:31.912210Z"
    }
   },
   "outputs": [
    {
     "data": {
      "text/plain": [
       "(215, 256, 256, 9)"
      ]
     },
     "execution_count": 10,
     "metadata": {},
     "output_type": "execute_result"
    }
   ],
   "source": [
    "y_train.shape"
   ]
  },
  {
   "cell_type": "code",
   "execution_count": 11,
   "id": "f64835f4",
   "metadata": {
    "ExecuteTime": {
     "end_time": "2023-05-23T11:47:32.255084Z",
     "start_time": "2023-05-23T11:47:32.242887Z"
    }
   },
   "outputs": [
    {
     "data": {
      "text/plain": [
       "(54, 256, 256, 9)"
      ]
     },
     "execution_count": 11,
     "metadata": {},
     "output_type": "execute_result"
    }
   ],
   "source": [
    "y_test.shape"
   ]
  },
  {
   "cell_type": "code",
   "execution_count": 12,
   "id": "9aabdd12",
   "metadata": {
    "ExecuteTime": {
     "end_time": "2023-05-23T11:47:32.571050Z",
     "start_time": "2023-05-23T11:47:32.559922Z"
    }
   },
   "outputs": [
    {
     "data": {
      "text/plain": [
       "(215, 256, 256, 3)"
      ]
     },
     "execution_count": 12,
     "metadata": {},
     "output_type": "execute_result"
    }
   ],
   "source": [
    "X_train_scaled.shape"
   ]
  },
  {
   "cell_type": "code",
   "execution_count": 13,
   "id": "9938c3d2",
   "metadata": {
    "ExecuteTime": {
     "end_time": "2023-05-23T11:47:33.686611Z",
     "start_time": "2023-05-23T11:47:33.674832Z"
    }
   },
   "outputs": [
    {
     "data": {
      "text/plain": [
       "(54, 256, 256, 3)"
      ]
     },
     "execution_count": 13,
     "metadata": {},
     "output_type": "execute_result"
    }
   ],
   "source": [
    "X_test_scaled.shape"
   ]
  },
  {
   "cell_type": "code",
   "execution_count": 14,
   "id": "96add111",
   "metadata": {
    "ExecuteTime": {
     "end_time": "2023-05-23T11:47:34.243048Z",
     "start_time": "2023-05-23T11:47:34.119109Z"
    }
   },
   "outputs": [],
   "source": [
    "# Create the model\n",
    "\n",
    "model = unet_model.build_model(input_shape=(256, 256, 3), num_classes = 9)"
   ]
  },
  {
   "cell_type": "code",
   "execution_count": 15,
   "id": "d8d7f730",
   "metadata": {
    "ExecuteTime": {
     "end_time": "2023-05-23T11:47:35.863322Z",
     "start_time": "2023-05-23T11:47:35.838269Z"
    }
   },
   "outputs": [],
   "source": [
    "# Compile the model\n",
    "\n",
    "unet_model.compile_model(model)"
   ]
  },
  {
   "cell_type": "code",
   "execution_count": null,
   "id": "000ac9a4",
   "metadata": {
    "ExecuteTime": {
     "start_time": "2023-05-23T11:47:32.085Z"
    }
   },
   "outputs": [
    {
     "name": "stdout",
     "output_type": "stream",
     "text": [
      "Epoch 1/3\n"
     ]
    },
    {
     "name": "stderr",
     "output_type": "stream",
     "text": [
      "2023-05-23 15:47:37.519995: W tensorflow/tsl/framework/cpu_allocator_impl.cc:83] Allocation of 1073741824 exceeds 10% of free system memory.\n",
      "2023-05-23 15:47:37.739044: W tensorflow/tsl/framework/cpu_allocator_impl.cc:83] Allocation of 1073741824 exceeds 10% of free system memory.\n",
      "2023-05-23 15:47:37.994444: W tensorflow/tsl/framework/cpu_allocator_impl.cc:83] Allocation of 1073741824 exceeds 10% of free system memory.\n",
      "2023-05-23 15:47:37.994511: W tensorflow/tsl/framework/cpu_allocator_impl.cc:83] Allocation of 1073741824 exceeds 10% of free system memory.\n",
      "2023-05-23 15:47:39.251160: W tensorflow/tsl/framework/cpu_allocator_impl.cc:83] Allocation of 1073741824 exceeds 10% of free system memory.\n"
     ]
    }
   ],
   "source": [
    "# Train the model\n",
    "\n",
    "unet_model.train_model(model, X_train_scaled , y_train  , epochs = 3, batch_size=64, validation_split=0.2)"
   ]
  },
  {
   "cell_type": "code",
   "execution_count": null,
   "id": "68fc38bc",
   "metadata": {},
   "outputs": [],
   "source": [
    "# Evaluate the model\n",
    "\n",
    "evaluate_model(model, X_test_scaled, y_test)"
   ]
  }
 ],
 "metadata": {
  "kernelspec": {
   "display_name": "Python 3 (ipykernel)",
   "language": "python",
   "name": "python3"
  },
  "language_info": {
   "codemirror_mode": {
    "name": "ipython",
    "version": 3
   },
   "file_extension": ".py",
   "mimetype": "text/x-python",
   "name": "python",
   "nbconvert_exporter": "python",
   "pygments_lexer": "ipython3",
   "version": "3.8.12"
  },
  "toc": {
   "base_numbering": 1,
   "nav_menu": {},
   "number_sections": true,
   "sideBar": true,
   "skip_h1_title": false,
   "title_cell": "Table of Contents",
   "title_sidebar": "Contents",
   "toc_cell": false,
   "toc_position": {},
   "toc_section_display": true,
   "toc_window_display": false
  }
 },
 "nbformat": 4,
 "nbformat_minor": 5
}
