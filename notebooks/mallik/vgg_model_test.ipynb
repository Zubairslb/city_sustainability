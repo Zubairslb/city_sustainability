{
 "cells": [
  {
   "cell_type": "code",
   "execution_count": 2,
   "metadata": {},
   "outputs": [
    {
     "name": "stderr",
     "output_type": "stream",
     "text": [
      "2023-05-24 17:51:42.925038: I tensorflow/tsl/cuda/cudart_stub.cc:28] Could not find cuda drivers on your machine, GPU will not be used.\n",
      "2023-05-24 17:51:43.081816: I tensorflow/tsl/cuda/cudart_stub.cc:28] Could not find cuda drivers on your machine, GPU will not be used.\n",
      "2023-05-24 17:51:43.082967: I tensorflow/core/platform/cpu_feature_guard.cc:182] This TensorFlow binary is optimized to use available CPU instructions in performance-critical operations.\n",
      "To enable the following instructions: AVX2 FMA, in other operations, rebuild TensorFlow with the appropriate compiler flags.\n",
      "2023-05-24 17:51:44.325113: W tensorflow/compiler/tf2tensorrt/utils/py_utils.cc:38] TF-TRT Warning: Could not find TensorRT\n"
     ]
    }
   ],
   "source": [
    "from city_sustainability.models import unet_model"
   ]
  },
  {
   "cell_type": "code",
   "execution_count": 3,
   "metadata": {},
   "outputs": [],
   "source": [
    "import PIL\n",
    "\n",
    "# import os\n",
    "from PIL import Image\n",
    "\n",
    "def image_resize(width, height, image):\n",
    "    # os.makedirs(out_dir, exist_ok=True)\n",
    "    # new_image = Image.open(image_file)\n",
    "    resized_image = image.resize((width, height),resample=Image.Resampling.NEAREST)\n",
    "    return resized_image"
   ]
  },
  {
   "cell_type": "code",
   "execution_count": 4,
   "metadata": {},
   "outputs": [],
   "source": [
    "import os\n",
    "\n",
    "def loading_paths(data_path):\n",
    "    # data_path is the path where all the city folders are located\n",
    "    city_folders = os.listdir(data_path)\n",
    "\n",
    "    # Initialize empty lists for images and labels\n",
    "    image_paths = []\n",
    "    label_paths = []\n",
    "\n",
    "    # Iterate over city folders\n",
    "    for city_folder in city_folders:\n",
    "        city_path = os.path.join(data_path, city_folder)\n",
    "        # Check if the item is a directory\n",
    "        if os.path.isdir(city_path):\n",
    "            image_folder = os.path.join(city_path, \"images\")\n",
    "            label_folder = os.path.join(city_path, \"labels\")\n",
    "            # Check if image and label folders exist\n",
    "            if os.path.exists(image_folder) and os.path.exists(label_folder):\n",
    "                # List all image files\n",
    "                image_files = os.listdir(image_folder)\n",
    "                # Iterate over image files\n",
    "                for image_file in image_files:\n",
    "                    image_path = os.path.join(image_folder, image_file)\n",
    "                    label_path = os.path.join(label_folder, image_file)\n",
    "                    if os.path.exists(label_path):\n",
    "                        # Append image and label file paths to lists\n",
    "                        image_paths.append(image_path)\n",
    "                        label_paths.append(label_path)\n",
    "\n",
    "    return image_paths, label_paths\n",
    "\n",
    "\n",
    "import numpy as np\n",
    "from PIL import Image\n",
    "from tensorflow.keras.utils import to_categorical\n",
    "from city_sustainability.preprocessing import image_resize\n",
    "\n",
    "def image_and_label_arrays(image_paths, label_paths, sampling_ratio = 1):\n",
    "    # Default sampling_ratio is equal to 1.0 (selects all samples)\n",
    "    image_list_array = []\n",
    "    label_list_array = []\n",
    "    end = round(sampling_ratio*len(image_paths))\n",
    "\n",
    "    for image_path in image_paths[0:end]:\n",
    "        im = Image.open(image_path)\n",
    "        # Resize each image using image_resize function\n",
    "        resized_image = image_resize(256,256,im)\n",
    "        # Generate array for each image\n",
    "        numpy_array_image = np.array(resized_image)\n",
    "        # Add resized array to list\n",
    "        image_list_array.append(numpy_array_image)\n",
    "\n",
    "    for label_path in label_paths[0:end]:\n",
    "        lb = Image.open(label_path)\n",
    "        # Generate array for each label\n",
    "        # Resize each label using image_resize function\n",
    "        resized_label = image_resize(256,256,lb)\n",
    "        # Generate array for each image\n",
    "        numpy_array_label = np.array(resized_label)\n",
    "        # Encode labels\n",
    "        encoded_label = to_categorical(numpy_array_label, num_classes=9)\n",
    "        # Add resized and encoded array to list\n",
    "        label_list_array.append(encoded_label)\n",
    "\n",
    "    from sklearn.metrics import accuracy_score\n",
    "\n",
    "# Assuming you have the ground truth labels and the total number of instances\n",
    "\n",
    "\n",
    "    image_array = np.array(image_list_array) # Convert the list of arrays to a NumPy array\n",
    "    label_array = np.array(label_list_array)  # Convert the list of arrays to a NumPy array\n",
    "\n",
    "    return image_array, label_array\n"
   ]
  },
  {
   "cell_type": "code",
   "execution_count": 5,
   "metadata": {},
   "outputs": [],
   "source": [
    "data_path_1 = '../../raw_data/OpenEarthMap_wo_xBD'\n",
    "image_paths, label_paths = loading_paths(data_path_1)"
   ]
  },
  {
   "cell_type": "code",
   "execution_count": 6,
   "metadata": {},
   "outputs": [],
   "source": [
    "X, y = image_and_label_arrays(image_paths, label_paths, 0.01)"
   ]
  },
  {
   "cell_type": "code",
   "execution_count": 7,
   "metadata": {},
   "outputs": [
    {
     "name": "stderr",
     "output_type": "stream",
     "text": [
      "2023-05-24 17:51:56.148801: I tensorflow/compiler/xla/stream_executor/cuda/cuda_gpu_executor.cc:982] could not open file to read NUMA node: /sys/bus/pci/devices/0000:01:00.0/numa_node\n",
      "Your kernel may have been built without NUMA support.\n",
      "2023-05-24 17:51:56.149156: W tensorflow/core/common_runtime/gpu/gpu_device.cc:1956] Cannot dlopen some GPU libraries. Please make sure the missing libraries mentioned above are installed properly if you would like to use GPU. Follow the guide at https://www.tensorflow.org/install/gpu for how to download and setup the required libraries for your platform.\n",
      "Skipping registering GPU devices...\n"
     ]
    },
    {
     "name": "stdout",
     "output_type": "stream",
     "text": [
      "1/1 [==============================] - 9s 9s/step - loss: 2.6310 - accuracy: 0.1318 - val_loss: 17.4271 - val_accuracy: 0.3498 - lr: 1.0000e-04\n"
     ]
    }
   ],
   "source": [
    "model = unet_model.build_vgg16_model(input_shape=(256,256, 3), num_classes=9)\n",
    "\n",
    "### Compile the model:-)\n",
    "unet_model.compile_model(model)\n",
    "\n",
    "### Train the model:-)\n",
    "unet_model.train_model(model, X , y, epochs=1, batch_size=512, validation_split=0.2)"
   ]
  },
  {
   "cell_type": "code",
   "execution_count": null,
   "metadata": {},
   "outputs": [],
   "source": []
  }
 ],
 "metadata": {
  "kernelspec": {
   "display_name": "city_sustainability",
   "language": "python",
   "name": "python3"
  },
  "language_info": {
   "codemirror_mode": {
    "name": "ipython",
    "version": 3
   },
   "file_extension": ".py",
   "mimetype": "text/x-python",
   "name": "python",
   "nbconvert_exporter": "python",
   "pygments_lexer": "ipython3",
   "version": "3.8.12"
  },
  "orig_nbformat": 4
 },
 "nbformat": 4,
 "nbformat_minor": 2
}
